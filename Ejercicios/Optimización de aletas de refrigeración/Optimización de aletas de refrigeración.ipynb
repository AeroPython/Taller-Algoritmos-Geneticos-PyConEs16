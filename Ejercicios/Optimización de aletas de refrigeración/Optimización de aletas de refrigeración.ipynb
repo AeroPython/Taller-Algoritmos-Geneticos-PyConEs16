{
 "cells": [
  {
   "cell_type": "markdown",
   "metadata": {
    "collapsed": false,
    "scrolled": false
   },
   "source": [
    "![Aeropython Logo](/files/imagenes/aeropython_logo.png)"
   ]
  },
  {
   "cell_type": "markdown",
   "metadata": {},
   "source": [
    "# Optimización de aletas de refrigeración"
   ]
  },
  {
   "cell_type": "markdown",
   "metadata": {},
   "source": [
    "Se quieren diseñar unas aletas de refrigeración destinadas al motor de un avión de caza multidisciplinar. Dicho avión tiene dos modos de funcionamiento nominal: un modo \"espía-bombardero\" y un modo \"combate\". Su altura de vuelo de crucero es de 14 km en ambos casos, donde __la temperatura ambiente es de $217 K$__.\n",
    "\n",
    "Cuando el avión funciona en modo \"espía-bombardero\", vuela a M = 0.85. En dichas condiciones, el coeficiente de convección, __h, vale $350 W/K \\cdot m^2$__. La superficie a enfriar se sitúa a temperaturas de alrededor de $400 K$.\n",
    "\n",
    "Cuando el avión funciona en modo \"combate\", vuela a M = 1.5. En dichas condiciones, el coeficiente de convección, __h, vale $500 W/K \\cdot m^2$__. La superficie a enfriar se sitúa a temperaturas de alrededor de $600 K$.\n",
    "\n",
    "Las aletas presentarán simetría cilíndrica y podrán estar fabricadas en el material deseado del catálogo proporcionado a continuación. El precio no supone un problema, pero sí el peso, por lo que habrá que tenerlo en cuenta para la elección final del material. El radio de la superficie circular sobre la que se puede instalar cada aleta es de 10 milímetros y su longitud máxima es de 100 milímetros. \n",
    "\n",
    "Se quiere poder optimizar para tres parámetros de diseño: calor evacuado, resistencia aerodinámica de la aleta y peso. Por otro lado, se quieren diseñar aletas para tres versiones diferentes del avión, la versión \"espía-bombardero\" (con misiones 100 % de este tipo), la versión \"caza\" para misiones de patrulla y combate y una versión \"multipropósito\" a la que se quiere poder encomendar misiones de un tipo y otro indistintamente."
   ]
  },
  {
   "cell_type": "code",
   "execution_count": 2,
   "metadata": {
    "collapsed": false
   },
   "outputs": [],
   "source": [
    "import matplotlib.cm as cm\n",
    "import matplotlib.patches as patches\n",
    "import matplotlib.pyplot as plt\n",
    "from mpl_toolkits.mplot3d import Axes3D\n",
    "import seaborn as sns\n",
    "sns.set(style='ticks', palette='Set2')\n",
    "%matplotlib inline\n",
    "import numpy as np\n",
    "from scipy.special import binom\n",
    "import pandas as pd\n",
    "from IPython.display import HTML\n",
    "import random as random\n",
    "import time\n",
    "from scipy import integrate"
   ]
  },
  {
   "cell_type": "markdown",
   "metadata": {},
   "source": [
    "##Materiales "
   ]
  },
  {
   "cell_type": "markdown",
   "metadata": {},
   "source": [
    "Para fabricar estas aletas, se dispone de un catálogo de materiales como el siguiente:"
   ]
  },
  {
   "cell_type": "code",
   "execution_count": 3,
   "metadata": {
    "collapsed": false
   },
   "outputs": [
    {
     "data": {
      "text/html": [
       "<div style=\"max-height:1000px;max-width:1500px;overflow:auto;\">\n",
       "<table border=\"1\" class=\"dataframe\">\n",
       "  <thead>\n",
       "    <tr style=\"text-align: right;\">\n",
       "      <th></th>\n",
       "      <th>Density (kg/m3)</th>\n",
       "      <th>Conductivity (W/mK)</th>\n",
       "    </tr>\n",
       "  </thead>\n",
       "  <tbody>\n",
       "    <tr>\n",
       "      <th>Latón</th>\n",
       "      <td>8500</td>\n",
       "      <td>85.0</td>\n",
       "    </tr>\n",
       "    <tr>\n",
       "      <th>Cobre</th>\n",
       "      <td>8900</td>\n",
       "      <td>401.0</td>\n",
       "    </tr>\n",
       "    <tr>\n",
       "      <th>Zinc</th>\n",
       "      <td>7140</td>\n",
       "      <td>116.0</td>\n",
       "    </tr>\n",
       "    <tr>\n",
       "      <th>Aluminio</th>\n",
       "      <td>2700</td>\n",
       "      <td>237.0</td>\n",
       "    </tr>\n",
       "    <tr>\n",
       "      <th>Aluminio (al.)</th>\n",
       "      <td>2800</td>\n",
       "      <td>160.0</td>\n",
       "    </tr>\n",
       "    <tr>\n",
       "      <th>Policarbonato</th>\n",
       "      <td>1200</td>\n",
       "      <td>0.2</td>\n",
       "    </tr>\n",
       "    <tr>\n",
       "      <th>Plomo</th>\n",
       "      <td>11340</td>\n",
       "      <td>35.0</td>\n",
       "    </tr>\n",
       "    <tr>\n",
       "      <th>Acero</th>\n",
       "      <td>7800</td>\n",
       "      <td>45.0</td>\n",
       "    </tr>\n",
       "  </tbody>\n",
       "</table>\n",
       "</div>"
      ],
      "text/plain": [
       "                Density (kg/m3)  Conductivity (W/mK)\n",
       "Latón                      8500                 85.0\n",
       "Cobre                      8900                401.0\n",
       "Zinc                       7140                116.0\n",
       "Aluminio                   2700                237.0\n",
       "Aluminio (al.)             2800                160.0\n",
       "Policarbonato              1200                  0.2\n",
       "Plomo                     11340                 35.0\n",
       "Acero                      7800                 45.0"
      ]
     },
     "execution_count": 3,
     "metadata": {},
     "output_type": "execute_result"
    }
   ],
   "source": [
    "data = {\n",
    "    #'Material' : ['Latón', 'Cobre', 'Zinc', 'Aluminio', 'Aluminio (al.)', 'Policarbonato', 'Plomo', 'Acero'],\n",
    "    'Density (kg/m3)' : [8500, 8900, 7140, 2700, 2800, 1200, 11340, 7800],\n",
    "    'Conductivity (W/mK)' : [85, 401, 116, 237, 160, 0.2, 35, 45]\n",
    "}\n",
    "catalogue = pd.DataFrame(data, columns=['Density (kg/m3)', 'Conductivity (W/mK)'], index = ['Latón', 'Cobre', 'Zinc', 'Aluminio', 'Aluminio (al.)', 'Policarbonato', 'Plomo', 'Acero'])\n",
    "catalogue"
   ]
  },
  {
   "cell_type": "code",
   "execution_count": 4,
   "metadata": {
    "collapsed": false
   },
   "outputs": [
    {
     "data": {
      "image/png": "[encoded data removed]",
      "text/plain": [
       "<matplotlib.figure.Figure at 0xac6a7f0>"
      ]
     },
     "metadata": {},
     "output_type": "display_data"
    }
   ],
   "source": [
    "fig1 = plt.figure(figsize=(12.5, 5))\n",
    "\n",
    "plt.subplot(121)\n",
    "catalogue['Density (kg/m3)'].plot(kind='bar',  fontsize=15, grid = False)\n",
    "plt.title('$Density (kg/m3)$', fontsize=20)\n",
    "sns.despine()\n",
    "\n",
    "plt.subplot(122)\n",
    "catalogue['Conductivity (W/mK)'].plot(kind='bar',  fontsize=15, grid = False)\n",
    "plt.title('$Conductivity (W/mK)$', fontsize=20)\n",
    "sns.despine()\n",
    "\n",
    "fig1.tight_layout()"
   ]
  },
  {
   "cell_type": "markdown",
   "metadata": {},
   "source": [
    "Como sólo hay 8 materiales, 3 bits bastarán para codificarlos, pero vamos a ordenarlos de una manera más significativa, dividiendo densidad por conductividad."
   ]
  },
  {
   "cell_type": "code",
   "execution_count": 5,
   "metadata": {
    "collapsed": false,
    "scrolled": true
   },
   "outputs": [
    {
     "data": {
      "text/html": [
       "<div style=\"max-height:1000px;max-width:1500px;overflow:auto;\">\n",
       "<table border=\"1\" class=\"dataframe\">\n",
       "  <thead>\n",
       "    <tr style=\"text-align: right;\">\n",
       "      <th></th>\n",
       "      <th>Material</th>\n",
       "      <th>Genes</th>\n",
       "      <th>Density (kg/m3)</th>\n",
       "      <th>Conductivity (W/mK)</th>\n",
       "      <th>Density/Conductivity</th>\n",
       "    </tr>\n",
       "  </thead>\n",
       "  <tbody>\n",
       "    <tr>\n",
       "      <th>Aluminio</th>\n",
       "      <td>Aluminio</td>\n",
       "      <td>000</td>\n",
       "      <td>2700</td>\n",
       "      <td>237.0</td>\n",
       "      <td>11.392405</td>\n",
       "    </tr>\n",
       "    <tr>\n",
       "      <th>Aluminio (al.)</th>\n",
       "      <td>Aluminio (al.)</td>\n",
       "      <td>001</td>\n",
       "      <td>2800</td>\n",
       "      <td>160.0</td>\n",
       "      <td>17.500000</td>\n",
       "    </tr>\n",
       "    <tr>\n",
       "      <th>Cobre</th>\n",
       "      <td>Cobre</td>\n",
       "      <td>010</td>\n",
       "      <td>8900</td>\n",
       "      <td>401.0</td>\n",
       "      <td>22.194514</td>\n",
       "    </tr>\n",
       "    <tr>\n",
       "      <th>Zinc</th>\n",
       "      <td>Zinc</td>\n",
       "      <td>011</td>\n",
       "      <td>7140</td>\n",
       "      <td>116.0</td>\n",
       "      <td>61.551724</td>\n",
       "    </tr>\n",
       "    <tr>\n",
       "      <th>Latón</th>\n",
       "      <td>Latón</td>\n",
       "      <td>100</td>\n",
       "      <td>8500</td>\n",
       "      <td>85.0</td>\n",
       "      <td>100.000000</td>\n",
       "    </tr>\n",
       "    <tr>\n",
       "      <th>Acero</th>\n",
       "      <td>Acero</td>\n",
       "      <td>101</td>\n",
       "      <td>7800</td>\n",
       "      <td>45.0</td>\n",
       "      <td>173.333333</td>\n",
       "    </tr>\n",
       "    <tr>\n",
       "      <th>Plomo</th>\n",
       "      <td>Plomo</td>\n",
       "      <td>110</td>\n",
       "      <td>11340</td>\n",
       "      <td>35.0</td>\n",
       "      <td>324.000000</td>\n",
       "    </tr>\n",
       "    <tr>\n",
       "      <th>Policarbonato</th>\n",
       "      <td>Policarbonato</td>\n",
       "      <td>111</td>\n",
       "      <td>1200</td>\n",
       "      <td>0.2</td>\n",
       "      <td>6000.000000</td>\n",
       "    </tr>\n",
       "  </tbody>\n",
       "</table>\n",
       "</div>"
      ],
      "text/plain": [
       "                      Material Genes  Density (kg/m3)  Conductivity (W/mK)  \\\n",
       "Aluminio              Aluminio   000             2700                237.0   \n",
       "Aluminio (al.)  Aluminio (al.)   001             2800                160.0   \n",
       "Cobre                    Cobre   010             8900                401.0   \n",
       "Zinc                      Zinc   011             7140                116.0   \n",
       "Latón                    Latón   100             8500                 85.0   \n",
       "Acero                    Acero   101             7800                 45.0   \n",
       "Plomo                    Plomo   110            11340                 35.0   \n",
       "Policarbonato    Policarbonato   111             1200                  0.2   \n",
       "\n",
       "                Density/Conductivity  \n",
       "Aluminio                   11.392405  \n",
       "Aluminio (al.)             17.500000  \n",
       "Cobre                      22.194514  \n",
       "Zinc                       61.551724  \n",
       "Latón                     100.000000  \n",
       "Acero                     173.333333  \n",
       "Plomo                     324.000000  \n",
       "Policarbonato            6000.000000  "
      ]
     },
     "execution_count": 5,
     "metadata": {},
     "output_type": "execute_result"
    }
   ],
   "source": [
    "catalogue['Material'] = ['Latón', 'Cobre', 'Zinc', 'Aluminio', 'Aluminio (al.)', 'Policarbonato', 'Plomo', 'Acero']\n",
    "catalogue['Density/Conductivity'] = catalogue['Density (kg/m3)']/catalogue['Conductivity (W/mK)']\n",
    "catalogue = catalogue.sort('Density/Conductivity', ascending=True)\n",
    "#catalogue.reset_index(inplace=True)\n",
    "#catalogue = catalogue.rename(columns={'index': 'Material'})\n",
    "catalogue['Genes'] = ['000', '001', '010', '011', '100', '101', '110', '111']\n",
    "catalogue = catalogue [['Material', 'Genes', 'Density (kg/m3)', 'Conductivity (W/mK)', 'Density/Conductivity']]\n",
    "catalogue"
   ]
  },
  {
   "cell_type": "code",
   "execution_count": 6,
   "metadata": {
    "collapsed": false
   },
   "outputs": [],
   "source": [
    "#catalogue['Genes'][7]"
   ]
  },
  {
   "cell_type": "code",
   "execution_count": 7,
   "metadata": {
    "collapsed": false
   },
   "outputs": [],
   "source": [
    "#catalogue['Price (dollars/m3)']['Latón']"
   ]
  },
  {
   "cell_type": "markdown",
   "metadata": {},
   "source": [
    "##Geometría"
   ]
  },
  {
   "cell_type": "markdown",
   "metadata": {},
   "source": [
    "Geométricamente, se necesita una curva monótona descendiente. Para describirla, se generará una curva de Bézier de cuarto orden (esto es, usando cuatro puntos) que darán lugar a una curva de tercer grado. Para determinar dicha curva hay cinco grados de libertad:"
   ]
  },
  {
   "cell_type": "markdown",
   "metadata": {},
   "source": [
    " | $P_0$| $P_1$| $P_2$| $P_3$\n",
    ":------:|:------:|:------:|:------:|:------:\n",
    "$X$     | $0$      | $x_1$  | $x_2$  | $0.1$     \n",
    "$Y$     | $0.01  $ | $y_1$  | $y_2$  | $y_3$\n",
    "                     "
   ]
  },
  {
   "cell_type": "markdown",
   "metadata": {},
   "source": [
    "Que deben respetar una serie de condiciones, unas impuestas por las especificaciones y otras para evitar generar curvas con puntos de inflexión. En la punta, se impone un ancho mínimo de 1 mm por motivos de fabricabilidad.\n",
    "\n",
    "$$0 \\leq x_1, x_2 \\leq 0.1$$\n",
    "$$ 0.0005 \\leq y_3 \\leq y_1, y_2 \\leq 0.01$$"
   ]
  },
  {
   "cell_type": "markdown",
   "metadata": {},
   "source": [
    "Una forma más significativa de determinar las coordenadas de los puntos $P_1$ y $P_2$ consiste en hacerlo en función de los ángulos $\\alpha$ y $\\beta$ que forman con la horizontal los segmentos que unen $P_{0}$ con $P_{1}$ y $P_{2}$ con $P_{3}$, respectivamente, así como la longitud de dichos segmentos. Los ángulos son los de las tangentes locales en los extremos y las distancias gobiernan cuánto tarda en separarse la curva de la tangente en los extremos. Los ángulos deben respetar que:\n",
    "\n",
    "$$ 0 \\leq \\alpha, \\beta \\leq \\frac{\\pi}{2}$$\n",
    "\n",
    "Y en el genoma se podrán caracterizar a partir de dos coeficientes tales que:\n",
    "\n",
    "$$ 0 \\leq c_{\\alpha}, c_{\\beta} \\leq 1$$\n",
    "$$$$\n",
    "$$\\alpha = c_{\\alpha} \\cdot \\frac{\\pi}{2}$$\n",
    "$$$$\n",
    "$$\\beta = c_{\\beta} \\cdot \\frac{\\pi}{2}$$"
   ]
  },
  {
   "cell_type": "markdown",
   "metadata": {},
   "source": [
    "Para determinar las longitudes de los segmentos, usarán en el genoma dos coeficientes $c_1$ y $c_2$ tales que:\n",
    "\n",
    "$$ 0 \\leq c_1, c_2 \\leq 1$$\n",
    "\n",
    "$$\\frac{r_1}{c_1} = min \\bigg ( \\frac{0.01 - y_3}{\\sin(\\alpha)} , \\frac{0.1}{\\cos(\\alpha)} \\bigg)$$\n",
    "\n",
    "$$\\frac{r_2}{c_2} = min \\bigg ( \\frac{0.01 - y_3}{\\sin(\\beta)} , \\frac{0.1}{\\cos(\\beta)} \\bigg)$$"
   ]
  },
  {
   "cell_type": "markdown",
   "metadata": {},
   "source": [
    "Y un tercer coeficiente tal que:\n",
    "\n",
    "$$ 0 \\leq c_3 \\leq 1$$\n",
    "$$y_3 = 0.0005 + c_3 \\cdot (0.0095)$$"
   ]
  },
  {
   "cell_type": "markdown",
   "metadata": {},
   "source": [
    "De tal forma que los coordenadas de los puntos intermedios valen:\n",
    "\n",
    "$$x_1 = r_1 \\cdot \\cos(\\alpha)$$\n",
    "$$y_1 = 0.01- r_1 \\cdot \\sin(\\alpha)$$\n",
    "$$$$\n",
    "$$x_2 = 0.1 - r_2 \\cdot \\cos(\\beta)$$\n",
    "$$y_2 = y_3 + r_2 \\cdot \\sin(\\beta)$$"
   ]
  },
  {
   "cell_type": "markdown",
   "metadata": {},
   "source": [
    "A partir de las coordenadas de estos puntos, ya se puede trazar la curva de Bézier. Por ejemplo, puede verse el perfil que se generará a partir de los puntos:\n",
    "\n",
    "$$P_0[0, 0.01], P_1[0.05, 0.01], P_2[0.05, 0.001], P_3[0.1, 0.001]$$"
   ]
  },
  {
   "cell_type": "code",
   "execution_count": 9,
   "metadata": {
    "collapsed": true
   },
   "outputs": [],
   "source": [
    "def Bernstein(n, k):\n",
    "    \"\"\"Bernstein polynomial.\n",
    "    Thanks, Juan Luis Cano!\n",
    "\n",
    "    \"\"\"\n",
    "    coeff = binom(n, k)\n",
    " \n",
    "    def _bpoly(x):\n",
    "        return coeff * x ** k * (1 - x) ** (n - k)\n",
    " \n",
    "    return _bpoly\n",
    "\n",
    "def Bezier(points, num=200):\n",
    "    \"\"\"Build Bézier curve from points.\n",
    "    Thanks, Juan Luis Cano!\n",
    "\n",
    "    \"\"\"\n",
    "    N = len(points)\n",
    "    t = np.linspace(0, 1, num=num)\n",
    "    curve = np.zeros((num, 2))\n",
    "    for ii in range(N):\n",
    "        curve += np.outer(Bernstein(N - 1, ii)(t), points[ii])\n",
    "    return curve"
   ]
  },
  {
   "cell_type": "code",
   "execution_count": 10,
   "metadata": {
    "collapsed": false
   },
   "outputs": [
    {
     "data": {
      "text/plain": [
       "<matplotlib.collections.PolyCollection at 0xb01fc88>"
      ]
     },
     "execution_count": 10,
     "metadata": {},
     "output_type": "execute_result"
    },
    {
     "data": {
      "image/png": "[encoded data removed]",
      "text/plain": [
       "<matplotlib.figure.Figure at 0xb4ad2b0>"
      ]
     },
     "metadata": {},
     "output_type": "display_data"
    }
   ],
   "source": [
    "points = [[0, 0.01], [0.05, 0.01],[0.05, 0.001], [0.1, 0.001]]\n",
    "curve = Bezier(points, 100)\n",
    "\n",
    "example_plot_2D = plt.figure(figsize=(15,1.5))\n",
    "plt.axis((0, 0.1, -0.01, 0.01))\n",
    "plt.axis('off')\n",
    "plt.fill_between(curve[:,0], curve[:,1], -curve[:,1])"
   ]
  },
  {
   "cell_type": "markdown",
   "metadata": {},
   "source": [
    "Las áreas de cada sección y las áreas laterales entre secciones se calculan teniendo en cuenta que la aleta presenta simetría de revolución, por lo que las primeras son círculos y las segundas se aproximan como troncos de cono, según las expresiones:\n",
    "\n",
    "$$A^i = \\pi \\cdot f(x^i)^2$$\n",
    "$$$$\n",
    "$$A_L^i = \\pi \\cdot (f(x^i) + f(x^{i+1})) \\cdot \\sqrt{(f(x^i) - f(x^{i+1}))^2 + (x^{i+1} - x^i)^2} $$\n",
    "\n",
    "Análogamente, el volumen también se calcula como la suma de troncos de cono diferenciales:\n",
    "\n",
    "$$V^i = \\pi \\cdot \\frac{x^{i+1} - x^i}{3} \\cdot (f(x^i)^2 + f(x^{i+1})^2 + f(x^i) \\cdot f(x^{i+1} )) $$\n",
    "\n",
    "Representando para la curva de ejemplo se ve que la discretización no es uniforme y que cada 'rebanada' de aleta tiene un espesor y volumen diferente:"
   ]
  },
  {
   "cell_type": "code",
   "execution_count": 11,
   "metadata": {
    "collapsed": false
   },
   "outputs": [
    {
     "data": {
      "image/png": "[encoded data removed]",
      "text/plain": [
       "<matplotlib.figure.Figure at 0xb016278>"
      ]
     },
     "metadata": {},
     "output_type": "display_data"
    }
   ],
   "source": [
    "A = np.pi * curve[:,1] * curve[:,1]\n",
    "\n",
    "A_lat = np.zeros(len(curve)-1)\n",
    "volumes = np.zeros(len(curve)-1)\n",
    "\n",
    "for ii in range(len(curve[:,0])-1):\n",
    "    A_lat[ii] = np.pi * (curve[ii, 1] + curve[ii+1, 1]) * np.sqrt((curve[ii, 1] - curve[ii+1, 1])**2 + (curve[ii+1, 0] - curve[ii, 0])**2)\n",
    "    volumes[ii] = (np.pi/3) * (curve[ii+1, 0] - curve[ii, 0]) * (curve[ii,1]**2 + curve[ii+1, 1]**2 + curve[ii,1]*curve[ii+1, 1])\n",
    "\n",
    "fig_surfaces_volumes = plt.figure(figsize=(15, 6))\n",
    "\n",
    "plt.subplot(121)\n",
    "plt.plot(curve[0:(len(curve)),0], A, label = '$Superficie$ $de$ $las$ $secciones$')\n",
    "plt.plot(curve[0:(len(curve)-1),0], A_lat, label = '$Superficie$ $lateral$')\n",
    "plt.legend(fontsize=15)\n",
    "sns.despine()\n",
    "\n",
    "plt.subplot(122)\n",
    "plt.plot(curve[0:(len(curve)-1),0], volumes, label = '$Volumen$ $en$ $cada$ $sección$')\n",
    "plt.legend(fontsize=15)\n",
    "sns.despine()"
   ]
  },
  {
   "cell_type": "markdown",
   "metadata": {},
   "source": [
    "##Ecuación del calor"
   ]
  },
  {
   "cell_type": "markdown",
   "metadata": {},
   "source": [
    "Desde el encastre, el calor se difunde por conducción, hacia la punta de la aleta y, a su vez, se pierde por convección a través de las paredes laterales. \n",
    "\n",
    "__La ecuación de conducción__ a través de una superficie de área $A$ tiene la forma:\n",
    "\n",
    "$$\\frac{dQ}{dt} = k \\cdot A \\cdot \\frac{dT}{dx} $$\n",
    "\n",
    "__La ecuación de convección__ a través de una superficie lateral $A_L$ sigue la expresión de la Ley de Enfriamiento de Newton para un cuerpo caliente en un ambiente frío, es decir:\n",
    "\n",
    "$$\\frac{dQ}{dt} = h \\cdot A_L \\cdot (T_{aleta} - T_{\\infty})$$"
   ]
  },
  {
   "cell_type": "markdown",
   "metadata": {},
   "source": [
    "El calor que cada sección de la aleta recibe por conducción, o bien lo transmite también por conducción a la sección siguiente o bien se pierde por convección en el ambiente. Para un estado estacionario y particularizando para cada sección de la aleta, se obtiene la siguiente __discretización de la ecuación del calor__, cuya resolución es directa escribiéndola en forma matricial:\n",
    "\n",
    "$$k \\cdot A^i \\cdot \\frac{T^i - T^{i-1}}{x^i - x^{i-1}} = k \\cdot A^{i+1} \\cdot \\frac{T^{i+1} - T^i}{x^{i+1} - x^i} - h \\cdot A^i_L \\cdot (T^i - T_{\\infty}) $$"
   ]
  },
  {
   "cell_type": "markdown",
   "metadata": {},
   "source": [
    "En forma matricial se expresa como:\n",
    "\n",
    "$$[M] \\cdot {T} = {B}$$\n",
    "\n",
    "donde: \n",
    "\n",
    "$$M^{i, i-1} = -\\frac{k \\cdot A^{i}}{x^i - x^{i-1}}$$\n",
    "\n",
    "$$M^{i, i} = \\frac{k \\cdot A^{i}}{x^i - x^{i-1}} + \\frac{k \\cdot A^{i+1}}{x^{i+1} - x^{i}} + h \\cdot A_L^i$$\n",
    "\n",
    "$$M^{i, i+1} = -\\frac{k \\cdot A^{i+1}}{x^{i+1} - x^{i}}$$\n",
    "\n",
    "$$B^i = h \\cdot A_L^i \\cdot T_{\\infty}$$"
   ]
  },
  {
   "cell_type": "markdown",
   "metadata": {},
   "source": [
    "Se toma como condiciones de contorno que la primera sección, la del encastre, se encuentra siempre a la temperatura del sistema y que la última no pierde calor por conducción, sino sólo convección a través de toda su superficie. Queda:\n",
    "\n",
    "$$M^{1, 1} = 1$$\n",
    "$$M^{1, 2} = 0$$\n",
    "\n",
    "$$M^{N, N} = \\frac{k \\cdot A^{N}}{x^N - x^{N-1}} + h \\cdot A^N$$\n",
    "$$M^{N, N-1} = -\\frac{k \\cdot A^{N}}{x^N - x^{N-1}}$$\n",
    "\n",
    "$$B^1 = T_{refrigeración}$$\n",
    "\n",
    "$$B^N = h \\cdot A^N \\cdot T_{\\infty}$$\n",
    "\n",
    "Y el resto de los elementos son nulos."
   ]
  },
  {
   "cell_type": "markdown",
   "metadata": {},
   "source": [
    "La potencia calorífica evacuada en la primera sección, vendrá dada por la expresión:\n",
    "\n",
    "$$\\dot Q = k \\cdot A^{1} \\cdot \\frac{T^{1} - T^0}{x^{1}} - h \\cdot A^0_L \\cdot (T^0 - T_{\\infty}) $$"
   ]
  },
  {
   "cell_type": "code",
   "execution_count": 12,
   "metadata": {
    "collapsed": false
   },
   "outputs": [],
   "source": [
    "def power(curve, T_hot, T_inf, k, h, plot=False):\n",
    "    \n",
    "    x = curve[:,0]\n",
    "    N = np.size(curve[:,0])\n",
    "\n",
    "    A = np.pi * curve[:,1] * curve[:,1]\n",
    "    A_lat = np.zeros(N-1)\n",
    "    for ii in range(N-1):\n",
    "            A_lat[ii] = np.pi * (curve[ii, 1] + curve[ii+1, 1]) * np.sqrt((curve[ii, 1] - curve[ii+1, 1])**2 + (curve[ii+1, 0] - curve[ii, 0])**2)\n",
    "\n",
    "    T = np.zeros(N)\n",
    "    M = np.zeros([N,N])\n",
    "    B = np.zeros(N)\n",
    "\n",
    "    M[0,0] = 1\n",
    "    M[N-1, N-1] = (k*A[N-1]/(x[N-1]-x[N-2])) + h*(A[N-1])\n",
    "    M[N-1, N-2] = -k*A[N-1]/(x[N-1]-x[N-2])\n",
    "    B[0] = T_hot\n",
    "    B[N-1] = h*(A[N-1])*T_inf\n",
    "\n",
    "    for i in range(1,N-1):\n",
    "        M[i, i] = (k*A[i]/(x[i]-x[i-1])) + (k*A[i+1]/(x[i+1]-x[i])) + h*A_lat[i]\n",
    "        M[i, i-1] = -k*A[i]/(x[i]-x[i-1])\n",
    "        M[i, i+1] = -k*A[i+1]/(x[i+1]-x[i])\n",
    "        B[i] = h*A_lat[i]*T_inf\n",
    "    \n",
    "    T = np.dot(np.linalg.inv(M),B)\n",
    "    Q = k * A[1]*(T[1]-T[0])/(x[1]-x[0]) - h * A_lat[0] * (T[0] - T_inf) \n",
    "    \n",
    "    garbage = plt.figure(figsize=(30, 3))\n",
    "    ax = garbage.add_subplot(111)\n",
    "    plt.axis((0, 0.1, -0.01, 0.01))\n",
    "    plt.axis('off')\n",
    "    aleta = plt.fill_between(curve[:,0], curve[:,1], -curve[:,1], facecolor=\"#cccccc\")\n",
    "    plt.close()\n",
    "    \n",
    "    if plot==True:     \n",
    "        xx, MM = np.meshgrid(curve[:,0], T)\n",
    "        fig = plt.figure(figsize=(30, 3))\n",
    "        ax = fig.add_subplot(111)\n",
    "        plt.axis((0, 0.1, -0.01, 0.01))\n",
    "        plt.axis('off')\n",
    "        im = ax.imshow(MM.transpose(), extent=(0, 0.1, -0.01, 0.01), cmap=cm.RdYlBu_r)\n",
    "        cb = fig.colorbar(im)\n",
    "        cb.set_label(\"Temperature (K)\")       \n",
    "        \n",
    "        \n",
    "        patch = patches.PathPatch(aleta.get_paths()[0], fc='none', lw=2)\n",
    "        ax.add_patch(patch)\n",
    "        im.set_clip_path(patch)\n",
    "    \n",
    "    \n",
    "        \n",
    "    return Q"
   ]
  },
  {
   "cell_type": "code",
   "execution_count": 13,
   "metadata": {
    "collapsed": true
   },
   "outputs": [],
   "source": [
    "def weight (curve, material):\n",
    "    \n",
    "    N = np.size(curve[:,0])\n",
    "    volumes = np.zeros(N-1)\n",
    "\n",
    "    for i in range(N-1):\n",
    "        volumes[i] = (np.pi/3) * (curve[i+1, 0] - curve[i, 0]) * (curve[i,1]**2 + curve[i+1, 1]**2 + curve[i,1]*curve[i+1, 1])\n",
    "    \n",
    "    weight = np.sum(volumes) * catalogue['Density (kg/m3)'][material]\n",
    "    \n",
    "    return weight"
   ]
  },
  {
   "cell_type": "markdown",
   "metadata": {},
   "source": [
    "Calculando el perfil de temperaturas para la curva de ejemplo, en el caso en que estuviera fabricada en plomo, se obtiene:"
   ]
  },
  {
   "cell_type": "code",
   "execution_count": 14,
   "metadata": {
    "collapsed": false,
    "scrolled": false
   },
   "outputs": [
    {
     "data": {
      "image/png": "[encoded data removed]",
      "text/plain": [
       "<matplotlib.figure.Figure at 0xb067c88>"
      ]
     },
     "metadata": {},
     "output_type": "display_data"
    }
   ],
   "source": [
    "Q = power(curve, 393.15, 293.15, 401, 400, plot=True)"
   ]
  },
  {
   "cell_type": "code",
   "execution_count": 15,
   "metadata": {
    "collapsed": false
   },
   "outputs": [],
   "source": [
    "#weight (curve, 'Latón')"
   ]
  },
  {
   "cell_type": "markdown",
   "metadata": {},
   "source": [
    "##Resistencia aerodinámica"
   ]
  },
  {
   "cell_type": "markdown",
   "metadata": {},
   "source": [
    "En los cuerpos romos, como estas aletas de sección circular, la resistencia asociada a la presión domina a la resistencia producida por la fricción del aire. Esto hace que la resistencia se pueda considerar como proporcional a la sección transversal de la aleta."
   ]
  },
  {
   "cell_type": "markdown",
   "metadata": {},
   "source": [
    "![Drag](/files/imagenes/drag.png)"
   ]
  },
  {
   "cell_type": "markdown",
   "metadata": {},
   "source": [
    "## Función de mérito"
   ]
  },
  {
   "cell_type": "markdown",
   "metadata": {
    "collapsed": true
   },
   "source": [
    "La función de mérito se va a definir en relación a los mejores y peores desempeños posibles, con la definición geométrica establecida y los materiales disponibles. La aleta más grande posible (llamada a continuación \"aleta máxima\") y la aleta más pequeña posible (\"aleta mímima\") están definidas como sigue:"
   ]
  },
  {
   "cell_type": "markdown",
   "metadata": {},
   "source": [
    "$Aleta$ $máxima:$ $$P_0[0, 0.01], P_1[0.05, 0.01], P_2[0.05, 0.01], P_3[0.1, 0.01]$$\n",
    "\n",
    "$Aleta$ $mínima:$ $$P_0[0, 0.01], P_1[0, 0.0005], P_2[0, 0.0005], P_3[0.1, 0.0005]$$"
   ]
  },
  {
   "cell_type": "code",
   "execution_count": 16,
   "metadata": {
    "collapsed": false
   },
   "outputs": [
    {
     "data": {
      "image/png": "[encoded data removed]",
      "text/plain": [
       "<matplotlib.figure.Figure at 0x61d0860>"
      ]
     },
     "metadata": {},
     "output_type": "display_data"
    }
   ],
   "source": [
    "points_max = [[0, 0.01], [0.05, 0.01],[0.05, 0.01], [0.1,0.01]]\n",
    "curve_max = Bezier(points_max, 100)\n",
    "points_min = [[0, 0.01], [0, 0.0005],[0, 0.0005], [0.1,0.0005]]\n",
    "curve_min = Bezier(points_min, 100)\n",
    "\n",
    "fig_max_min = plt.figure(figsize=(15,5))\n",
    "\n",
    "plt.subplot(211)\n",
    "plt.title('$Aleta$ $máxima$', fontsize=20)\n",
    "plt.axis((0, 0.1, -0.01, 0.01))\n",
    "plt.axis('off')\n",
    "plt.fill_between(curve_max[:,0], curve_max[:,1], -curve_max[:,1])\n",
    "\n",
    "plt.subplot(212)\n",
    "plt.title('$Aleta$ $mínima$', fontsize=20)\n",
    "plt.axis((0, 0.1, -0.01, 0.01))\n",
    "plt.axis('off')\n",
    "plt.fill_between(curve_min[:,0], curve_min[:,1], -curve_min[:,1])\n",
    "\n",
    "fig_max_min.tight_layout()"
   ]
  },
  {
   "cell_type": "markdown",
   "metadata": {},
   "source": [
    "Los desempeños máximos y mínimos están recogidos en la tabla siguiente:"
   ]
  },
  {
   "cell_type": "code",
   "execution_count": 17,
   "metadata": {
    "collapsed": false
   },
   "outputs": [
    {
     "data": {
      "text/html": [
       "<div style=\"max-height:1000px;max-width:1500px;overflow:auto;\">\n",
       "<table border=\"1\" class=\"dataframe\">\n",
       "  <thead>\n",
       "    <tr style=\"text-align: right;\">\n",
       "      <th></th>\n",
       "      <th>$\\dot Q^{espía}_{max} (W)$</th>\n",
       "      <th>$\\dot Q^{espía}_{min} (W)$</th>\n",
       "      <th>$\\dot Q^{combate}_{max} (W)$</th>\n",
       "      <th>$\\dot Q^{combate}_{min} (W)$</th>\n",
       "      <th>$P_{max} (kg)$</th>\n",
       "      <th>$P_{min} (kg)$</th>\n",
       "      <th>$A^{transv}_{max} (m^2)$</th>\n",
       "      <th>$A^{transv}_{min} (m^2)$</th>\n",
       "    </tr>\n",
       "  </thead>\n",
       "  <tbody>\n",
       "    <tr>\n",
       "      <th>Aleta</th>\n",
       "      <td>Máxima</td>\n",
       "      <td>Mínima</td>\n",
       "      <td>Máxima</td>\n",
       "      <td>Mínima</td>\n",
       "      <td>Máxima</td>\n",
       "      <td>Mínima</td>\n",
       "      <td>Máxima</td>\n",
       "      <td>Mínima</td>\n",
       "    </tr>\n",
       "    <tr>\n",
       "      <th>Material</th>\n",
       "      <td>Cobre</td>\n",
       "      <td>Policarbonato</td>\n",
       "      <td>Cobre</td>\n",
       "      <td>Policarbonato</td>\n",
       "      <td>Cobre</td>\n",
       "      <td>Policarbonato</td>\n",
       "      <td>-</td>\n",
       "      <td>-</td>\n",
       "    </tr>\n",
       "    <tr>\n",
       "      <th>Valor</th>\n",
       "      <td>-270.5784</td>\n",
       "      <td>-14.54057</td>\n",
       "      <td>-714.4895</td>\n",
       "      <td>-41.22442</td>\n",
       "      <td>0.2796017</td>\n",
       "      <td>0.0006787982</td>\n",
       "      <td>0.002</td>\n",
       "      <td>0.0001949995</td>\n",
       "    </tr>\n",
       "  </tbody>\n",
       "</table>\n",
       "</div>"
      ],
      "text/plain": [
       "         $\\dot Q^{espía}_{max} (W)$ $\\dot Q^{espía}_{min} (W)$  \\\n",
       "Aleta                        Máxima                     Mínima   \n",
       "Material                      Cobre              Policarbonato   \n",
       "Valor                     -270.5784                  -14.54057   \n",
       "\n",
       "         $\\dot Q^{combate}_{max} (W)$ $\\dot Q^{combate}_{min} (W)$  \\\n",
       "Aleta                          Máxima                       Mínima   \n",
       "Material                        Cobre                Policarbonato   \n",
       "Valor                       -714.4895                    -41.22442   \n",
       "\n",
       "         $P_{max} (kg)$ $P_{min} (kg)$ $A^{transv}_{max} (m^2)$  \\\n",
       "Aleta            Máxima         Mínima                   Máxima   \n",
       "Material          Cobre  Policarbonato                        -   \n",
       "Valor         0.2796017   0.0006787982                    0.002   \n",
       "\n",
       "         $A^{transv}_{min} (m^2)$  \n",
       "Aleta                      Mínima  \n",
       "Material                        -  \n",
       "Valor                0.0001949995  "
      ]
     },
     "execution_count": 17,
     "metadata": {},
     "output_type": "execute_result"
    }
   ],
   "source": [
    "Q_1_max = power(curve_max, 400, 217, catalogue['Conductivity (W/mK)']['Cobre'], 350)\n",
    "Q_1_min = power(curve_min, 400, 217, catalogue['Conductivity (W/mK)']['Policarbonato'], 350)\n",
    "Q_2_max = power(curve_max, 600, 217, catalogue['Conductivity (W/mK)']['Cobre'], 500)\n",
    "Q_2_min = power(curve_min, 600, 217, catalogue['Conductivity (W/mK)']['Policarbonato'], 500)\n",
    "weight_max = weight (curve_max, 'Cobre')\n",
    "weight_min = weight (curve_min, 'Policarbonato')\n",
    "A_T_max = 2 * integrate.simps(curve_max[:, 1], curve_max[:,0])\n",
    "A_T_min = 2 * integrate.simps(curve_min[:, 1], curve_min[:,0])\n",
    "\n",
    "\n",
    "performances_dict = {\n",
    "    '$\\dot Q^{espía}_{max} (W)$' : ['Máxima', 'Cobre', Q_1_max],\n",
    "    '$\\dot Q^{espía}_{min} (W)$' : ['Mínima', 'Policarbonato', Q_1_min],\n",
    "    '$\\dot Q^{combate}_{max} (W)$' : ['Máxima', 'Cobre', Q_2_max],\n",
    "    '$\\dot Q^{combate}_{min} (W)$' : ['Mínima', 'Policarbonato', Q_2_min],\n",
    "    '$P_{max} (kg)$' : ['Máxima', 'Cobre', weight_max],\n",
    "    '$P_{min} (kg)$' : ['Mínima', 'Policarbonato', weight_min],\n",
    "    '$A^{transv}_{max} (m^2)$' : ['Máxima', '-', A_T_max],\n",
    "    '$A^{transv}_{min} (m^2)$' : ['Mínima', '-', A_T_min]\n",
    "}\n",
    "\n",
    "performances = pd.DataFrame(performances_dict, \n",
    "                            columns = ['$\\dot Q^{espía}_{max} (W)$', \n",
    "                                       '$\\dot Q^{espía}_{min} (W)$', \n",
    "                                       '$\\dot Q^{combate}_{max} (W)$', \n",
    "                                       '$\\dot Q^{combate}_{min} (W)$', \n",
    "                                       '$P_{max} (kg)$', \n",
    "                                       '$P_{min} (kg)$',\n",
    "                                       '$A^{transv}_{max} (m^2)$',\n",
    "                                       '$A^{transv}_{min} (m^2)$'\n",
    "                                      ], \n",
    "                            index = ['Aleta', 'Material', 'Valor'])\n",
    "performances"
   ]
  },
  {
   "cell_type": "markdown",
   "metadata": {},
   "source": [
    "Con estos valores ya se puede definir una función de mérito a partir de unos pesos $\\omega_{espía}$ y $\\omega_{combate}$ por un lado y $\\omega_{convección}$, $\\omega_{peso}$ y $\\omega_{resistencia}$ por otro:\n",
    "\n",
    "$$ \\Phi = \\omega_{espía} *  \\bigg [\\omega_{convección} \\cdot \\frac{\\dot Q^{espía} - \\dot Q^{espía}_{min}}{\\dot Q^{espía}_{max} - \\dot Q^{espía}_{min}} + \\omega_{peso} \\cdot \\frac{P_{max} - P}{P_{max} - P_{min}} + \\omega_{resistencia} \\cdot \\frac{A_{max} - A}{A_{max} - A_{min}}\\bigg] + \\\\ \\omega_{combate} *  \\bigg [\\omega_{convección} \\cdot \\frac{\\dot Q^{combate} - \\dot Q^{combate}_{min}}{\\dot Q^{combate}_{max} - \\dot Q^{combate}_{min}} + \\omega_{peso} \\cdot \\frac{P_{max} - P}{P_{max} - P_{min}} + \\omega_{resistencia} \\cdot \\frac{A_{max} - A}{A_{max} - A_{min}}\\bigg]$$"
   ]
  },
  {
   "cell_type": "code",
   "execution_count": 18,
   "metadata": {
    "collapsed": true
   },
   "outputs": [],
   "source": [
    "def phi(curve, material, omega_spy = 1, omega_combat = 1, omega_C=1, omega_P=0, omega_D=0):\n",
    "    \n",
    "    sum_omega = omega_spy + omega_combat\n",
    "    omega_spy, omega_combat = omega_spy/sum_omega, omega_combat/sum_omega\n",
    "    \n",
    "    sum_omega = omega_C + omega_P + omega_D\n",
    "    omega_C, omega_P, omega_D = omega_C/sum_omega, omega_P/sum_omega, omega_D/sum_omega\n",
    "    \n",
    "    Q_spy = power(curve, 400, 217, catalogue['Conductivity (W/mK)'][material], 350)\n",
    "    Q_combat = power(curve, 600, 217, catalogue['Conductivity (W/mK)'][material], 500)\n",
    "    P = weight (curve, material)\n",
    "    A_T = 2 * integrate.simps(curve[:, 1], curve[:,0])\n",
    "    \n",
    "    phi_C_spy = omega_C * (Q_spy - Q_1_min) / (Q_1_max - Q_1_min)\n",
    "    phi_C_combat = omega_C * (Q_combat - Q_2_min) / (Q_2_max - Q_2_min)\n",
    "    phi_weight = omega_P * (weight_max - P) / (weight_max - weight_min)\n",
    "    phi_D = omega_D * (A_T_max-A_T)/(A_T_max-A_T_min)\n",
    "    \n",
    "    phi = omega_spy* (phi_C_spy + phi_weight + phi_D) + omega_combat* (phi_C_combat + phi_weight + phi_D)\n",
    "    \n",
    "    return phi, Q_spy, Q_combat, P, A_T"
   ]
  },
  {
   "cell_type": "code",
   "execution_count": 19,
   "metadata": {
    "collapsed": false,
    "scrolled": true
   },
   "outputs": [],
   "source": [
    "#phi(curve, \"Aluminio\")"
   ]
  },
  {
   "cell_type": "markdown",
   "metadata": {},
   "source": [
    "##Individuos y genoma"
   ]
  },
  {
   "cell_type": "markdown",
   "metadata": {},
   "source": [
    "El genoma consistirá en una serie de bits diferente para cada individuo de la población. Se han tomado 3 bits para determinar el material y se decide tomar __cinco bits para determinar cada coeficiente__, es decir, sólo podrán tomar ocho valores distintos, equiespaciados, entre 0 y 1. El genoma estará formado por 28 bits, repartidos en 5 bloques de 5 y un bloque de 3, a partir de los cuales se determinarán los valores de los coeficientes y el material elegido:"
   ]
  },
  {
   "cell_type": "markdown",
   "metadata": {},
   "source": [
    "| | | | | |\n",
    ":------:|:------:|:------:|:------:|:------:|:------:\n",
    "$c_{\\beta}$| $c_{\\alpha}$| $c_3$| $c_2$| $c_1$| $Material$\n",
    "| | | | | "
   ]
  },
  {
   "cell_type": "code",
   "execution_count": 20,
   "metadata": {
    "collapsed": false
   },
   "outputs": [],
   "source": [
    "class Individual (object):\n",
    "    \n",
    "    def __init__(self, genome):\n",
    "        \n",
    "        self.genome = genome\n",
    "        \n",
    "        gen_beta, gen_alpha, gen_3, gen_2, gen_1, gen_mat = '', '', '', '', '', ''\n",
    "        self.P1, self.P2, self.P3 = [], [], []\n",
    "        \n",
    "        for i in range(5):\n",
    "            gen_beta += str(self.genome[i])\n",
    "            gen_alpha += str(self.genome[5+i])\n",
    "            gen_3 += str(self.genome[10+i])\n",
    "            gen_2 += str(self.genome[15+i])\n",
    "            gen_1 += str(self.genome[20+i])\n",
    "        \n",
    "        for i in range(3):\n",
    "            gen_mat += str(self.genome[25+i])\n",
    "        \n",
    "        self.C_beta = int (gen_beta, 2)/31.0\n",
    "        self.C_alpha = int (gen_alpha, 2)/31.0\n",
    "        self.C_3 = int (gen_3, 2)/31.0\n",
    "        self.C_2 = int (gen_2, 2)/31.0\n",
    "        self.C_1 = int (gen_1, 2)/31.0\n",
    "        self.material = int (gen_mat, 2)\n",
    "        \n",
    "        self.beta = self.C_beta * (np.pi/2)\n",
    "        self.alpha = self.C_alpha * (np.pi/2)\n",
    "        \n",
    "        x3 = 0.1\n",
    "        y3 = 0.0005 + self.C_3 * 0.0095\n",
    "        \n",
    "        r2_max = min ((0.01-y3)/np.sin(self.beta), 0.1/np.cos(self.beta))\n",
    "        r1_max = min ((0.01-y3)/np.sin(self.alpha), 0.1/np.cos(self.alpha))\n",
    "        \n",
    "        r1 = self.C_1 * r1_max\n",
    "        r2 = self.C_2 * r2_max\n",
    "            \n",
    "        x1 = r1 * np.cos(self.alpha)\n",
    "        y1 = 0.01 - r1*np.sin(self.alpha)\n",
    "        x2 = 0.1 - r2*np.cos(self.beta)\n",
    "        y2 = y3 + r2*np.sin(self.beta)\n",
    "        \n",
    "        self.P0 = [0, 0.01]\n",
    "        self.P1.append(x1)\n",
    "        self.P1.append(y1)\n",
    "        self.P2.append(x2)\n",
    "        self.P2.append(y2)\n",
    "        self.P3.append(x3)\n",
    "        self.P3.append(y3)\n",
    "        \n",
    "        self.points = [self.P0, self.P1, self.P2, self.P3]\n",
    "        \n",
    "        self.curve = Bezier(self.points, 100)\n",
    "        self.phi, self.Q_spy, self.Q_combat, self.weight, self.A_T = phi(self.curve, self.material)\n",
    "        \n",
    "    def plot(self):\n",
    "        fig = plt.figure(figsize=(15,1.5))\n",
    "        plt.axis((0, 0.1, -0.01, 0.01))\n",
    "        plt.axis('off')\n",
    "        plt.fill_between(self.curve[:,0], self.curve[:,1], -self.curve[:,1])"
   ]
  },
  {
   "cell_type": "markdown",
   "metadata": {},
   "source": [
    "Por ejemplo, se puede obtener una aleta a partir del genoma:\n",
    "\n",
    "$$[1, 1, 1, 0, 1, 0, 1, 0, 1, 0, 1, 0, 0, 1, 0, 1, 0, 1, 0, 1, 1, 0, 1, 0, 1, 0, 1, 1]$$"
   ]
  },
  {
   "cell_type": "code",
   "execution_count": 21,
   "metadata": {
    "collapsed": false
   },
   "outputs": [
    {
     "data": {
      "image/png": "[encoded data removed]",
      "text/plain": [
       "<matplotlib.figure.Figure at 0x61477b8>"
      ]
     },
     "metadata": {},
     "output_type": "display_data"
    }
   ],
   "source": [
    "individuo = Individual ([1, 1, 1, 0, 1, 0, 1, 0, 1, 0, 1, 0, 0, 1, 0, 1, 0, 1, 0, 1, 1, 0, 1, 0, 1, 0, 1, 1])\n",
    "individuo.plot()"
   ]
  },
  {
   "cell_type": "markdown",
   "metadata": {},
   "source": [
    "##Funciones genéticas"
   ]
  },
  {
   "cell_type": "markdown",
   "metadata": {},
   "source": [
    "Para el éxito de este algoritmo serán necesaria la creación de los operadores que, actuando sobre la población de soluciones ejercerán el papel de la selección natural, mejorando el genoma del conjunto de la población generación tras generación."
   ]
  },
  {
   "cell_type": "markdown",
   "metadata": {},
   "source": [
    "Se crea, primero, una función \"__inicio(población)__\" que tiene por objeto generar una primera muestra poblacional aleatoria a partir de la cual comenzar a aplicar el algoritmo."
   ]
  },
  {
   "cell_type": "code",
   "execution_count": 22,
   "metadata": {
    "collapsed": true
   },
   "outputs": [],
   "source": [
    "randBinList = lambda n: [random.randint(0,1) for b in range(1,n+1)]\n",
    "\n",
    "def boot(population):\n",
    "    society = []\n",
    "    for i in range (population):\n",
    "        new_individual = Individual(randBinList(28))\n",
    "        society.append(new_individual)\n",
    "    return society"
   ]
  },
  {
   "cell_type": "markdown",
   "metadata": {},
   "source": [
    "La función \"__inmigración(sociedad, tasa de migración)__\" tiene una función similar, añade a la sociedad objetivo una serie de individuos aleatorios cuyo número depende de una tasa de migración dada. Esta función tiene por vocación representar la variabilidad genética que se introduce en una población con la llegada de extranjeros."
   ]
  },
  {
   "cell_type": "code",
   "execution_count": 23,
   "metadata": {
    "collapsed": true
   },
   "outputs": [],
   "source": [
    "def inmigration (society, migration_rate):\n",
    "    for i in range (int(np.ceil(len(society)*migration_rate))):\n",
    "        new_individual = Individual(randBinList(28))\n",
    "        society.append(new_individual)"
   ]
  },
  {
   "cell_type": "markdown",
   "metadata": {},
   "source": [
    "La función \"__cruce (sociedad, tasa de reproducción, tasa de mutación)__\" es la encargada de la reproducción. En primer lugar, toma la sociedad objetivo y selecciona parejas de individuos aleatoriamente. La probabilidad de cada individuo depende de la calidad de su genoma, de tal manera que el individuo con el mejor genoma (es decir, la función de mérito más elevada) tiene N veces más probabilidades de reproducirse que el individuo con el peor genoma, donde N es el tamaño de la población. A continuación, divide los genomas de las parejas seleccionadas por dos puntos aleatorios y los mezcla para generar un nuevo genoma. El nuevo genoma está sujeto a una posible mutación, esto es, cada uno de los genes (bits) tiene una probabilidad de cambiar dada por la tasa de mutación. Finalmente, la función incorpora al nuevo individuo a la sociedad objetivo."
   ]
  },
  {
   "cell_type": "code",
   "execution_count": 24,
   "metadata": {
    "collapsed": false
   },
   "outputs": [],
   "source": [
    "def weighted_choice_sub(weights):\n",
    "    rnd = random.random() * sum(weights)\n",
    "    for i, w in enumerate(weights):\n",
    "        rnd -= w\n",
    "        if rnd < 0:\n",
    "            return i\n",
    "\n",
    "def crossover (society, reproduction_rate, mutation_rate):\n",
    "    \n",
    "    phi_list = [individual.phi for individual in society]\n",
    "    probability = [i for i in reversed(range(1,len(society)+1))]\n",
    "    mutation = [1-mutation_rate, mutation_rate]    \n",
    "    \n",
    "    society = [x for (y,x) in sorted(zip(phi_list,society), key=lambda x: x[0], reverse=True)] #se ordenan los individuos de más apto a menos apto\n",
    "    \n",
    "    for i in range (int(len(society)*reproduction_rate)):\n",
    "        father, mother = society[weighted_choice_sub(probability)], society[weighted_choice_sub(probability)]\n",
    "        a, b = random.randrange(len(father.genome)), random.randrange(len(mother.genome))\n",
    "        \n",
    "        child_genome = father.genome[0:min(a,b)]+mother.genome[min(a,b):max(a,b)]+father.genome[max(a,b):]\n",
    "        n = [weighted_choice_sub(mutation) for i in range(len(child_genome))]\n",
    "        n, child_genome = np.array(n), np.array(child_genome)\n",
    "        mutant_child_genome = abs(n-child_genome)\n",
    "        \n",
    "        society.append(Individual(mutant_child_genome.tolist()))\n",
    "        \n",
    "    return (society)"
   ]
  },
  {
   "cell_type": "markdown",
   "metadata": {},
   "source": [
    "Por último, la función \"__torneo(sociedad, población futura)__\" elige aleatoriamente parejas de individuos de la sociedad objetivo y los enfrenta hasta que se ha alcanzado el nivel de población deseado. El individuo menos apto (aquel con la función de mérito más baja) \"muere\" y su abandona la sociedad."
   ]
  },
  {
   "cell_type": "code",
   "execution_count": 25,
   "metadata": {
    "collapsed": false
   },
   "outputs": [],
   "source": [
    "def tournament(society, future_population):\n",
    "    while (len(society)>future_population):\n",
    "        index1, index2 = random.randrange(0,len(society)), random.randrange(0,len(society))\n",
    "        if society[index1].phi < society[index2].phi:\n",
    "            society.pop(index1)\n",
    "        else:\n",
    "            society.pop(index2)"
   ]
  },
  {
   "cell_type": "code",
   "execution_count": 26,
   "metadata": {
    "collapsed": false
   },
   "outputs": [],
   "source": [
    "#list1 = ['b', 'a', 'c', 'e', 'd']\n",
    "#list2 = [1,3,1,2,3]\n",
    "#list3 = [[list2[i], list1[i]] for i in range(len(list1))]\n",
    "#list3.sort(key=lambda x: x[0], reverse=True)\n",
    "#list1= [list3[i][1] for i in range (len(list3))]\n",
    "#list1"
   ]
  },
  {
   "cell_type": "markdown",
   "metadata": {},
   "source": [
    "##Algoritmo genético"
   ]
  },
  {
   "cell_type": "markdown",
   "metadata": {},
   "source": [
    "En las poblaciones reales, el número de individuos no permanece constante a lo largo del tiempo, sino que sufre grandes oscilaciones. En épocas de bonanza y abundancia de recursos, los individuos se reproducen y se produce una inmigracion neta, con lo que la población aumenta enormemente. Por el contrario, en época de escasez los individuos deben competir por los recursos, por lo que la mortalidad y la emigración reducen el tamaño de la población. El siguiente algoritmo pretende reproducir esto. "
   ]
  },
  {
   "cell_type": "markdown",
   "metadata": {},
   "source": [
    "En un ciclo, se produce un efecto de inmigración y reproducción que hacen aumentar enormemente la población y la diversidad genética. Para favorecer la selección, los mejores individuos tienen más probabilidades de reproducirse. En el momento de la reproducción, también se introduce una tasa de mutación, que debe servir a aumentar la variabilidad genética y a ayudar a la solución a salir de máximos locales. Tras la reproducción, los individuos originales no son eliminados, sino que siguen conviviendo con los nuevos individuos, como ocurre en la mayoría de las poblaciones naturales. "
   ]
  },
  {
   "cell_type": "markdown",
   "metadata": {},
   "source": [
    "A las fases de inmigración y reproducción, sigue una fase de torneo, en la que parejas de individuos aleatorias son comparadas para eliminar a la solución menos apta. En esta segunda fase hay que tener cuidado de no reducir demasiado el tamaño de la población, lo que exacerbaría los efectos de la deriva genética."
   ]
  },
  {
   "cell_type": "code",
   "execution_count": 27,
   "metadata": {
    "collapsed": true
   },
   "outputs": [],
   "source": [
    "omega_espia = 0\n",
    "omega_combate = 1\n",
    "omega_conveccion = 2\n",
    "omega_peso = 2\n",
    "omega_resistencia = 1\n",
    "N_0 = 50\n",
    "number_of_generations = 30\n",
    "migration_rate = 0.1\n",
    "reproduction_rate = 1\n",
    "mutation_rate = 2/28"
   ]
  },
  {
   "cell_type": "code",
   "execution_count": 28,
   "metadata": {
    "collapsed": true
   },
   "outputs": [],
   "source": [
    "def phi(curve, material, omega_spy = omega_espia, omega_combat = omega_combate, omega_C=omega_conveccion, omega_P=omega_peso, omega_D=omega_resistencia):\n",
    "    \n",
    "    sum_omega = omega_spy + omega_combat\n",
    "    omega_spy, omega_combat = omega_spy/sum_omega, omega_combat/sum_omega\n",
    "    \n",
    "    sum_omega = omega_C + omega_P + omega_D\n",
    "    omega_C, omega_P, omega_D = omega_C/sum_omega, omega_P/sum_omega, omega_D/sum_omega\n",
    "    \n",
    "    Q_spy = power(curve, 400, 217, catalogue['Conductivity (W/mK)'][material], 350)\n",
    "    Q_combat = power(curve, 600, 217, catalogue['Conductivity (W/mK)'][material], 500)\n",
    "    P = weight (curve, material)\n",
    "    A_T = 2 * integrate.simps(curve[:, 1], curve[:,0])\n",
    "    \n",
    "    phi_C_spy = omega_C * (Q_spy - Q_1_min) / (Q_1_max - Q_1_min)\n",
    "    phi_C_combat = omega_C * (Q_combat - Q_2_min) / (Q_2_max - Q_2_min)\n",
    "    phi_weight = omega_P * (weight_max - P) / (weight_max - weight_min)\n",
    "    phi_D = omega_D * (A_T_max-A_T)/(A_T_max-A_T_min)\n",
    "    \n",
    "    phi = omega_spy* (phi_C_spy + phi_weight + phi_D) + omega_combat* (phi_C_combat + phi_weight + phi_D)\n",
    "    \n",
    "    return phi, Q_spy, Q_combat, P, A_T"
   ]
  },
  {
   "cell_type": "code",
   "execution_count": 29,
   "metadata": {
    "collapsed": false
   },
   "outputs": [],
   "source": [
    "#genes_adan = [0,0,0,0,0,0,0,0,0,0,0,0,0,0,0,1,1,1,1,1,1,1,1,1,1,0,0,0]\n",
    "#genes_eva =  [0,1,1,1,1,0,0,0,0,0,0,0,0,0,0,0,0,0,0,0,0,0,1,1,1,0,0,0]\n",
    "#adan = Individual(genes_adan)\n",
    "#eva = Individual(genes_eva)"
   ]
  },
  {
   "cell_type": "code",
   "execution_count": null,
   "metadata": {
    "collapsed": false
   },
   "outputs": [],
   "source": [
    "start = time.time()\n",
    "\n",
    "society = 25*[adan, eva]\n",
    "print('Booting')\n",
    "print('')\n",
    "max_phi, min_phi, mean_phi, std_phi = [], [], [], []\n",
    "\n",
    "generation = 0\n",
    "print('*Generation: ', generation)\n",
    "print(len(society), ' individuals')\n",
    "phi_list = [individual.phi for individual in society]\n",
    "max_phi.append(max(phi_list))\n",
    "min_phi.append(min(phi_list))\n",
    "mean_phi.append(np.mean(phi_list))\n",
    "std_phi.append(np.std(phi_list))\n",
    "\n",
    "\n",
    "for i in range(number_of_generations):\n",
    "        \n",
    "    inmigration(society, migration_rate)\n",
    "    print('Inmigration')\n",
    "    print(len(society), ' individuals')\n",
    "    society = crossover(society, reproduction_rate, mutation_rate)\n",
    "    print('Crossover')\n",
    "    print(len(society), ' individuals')\n",
    "    tournament(society, N_0)\n",
    "    print('Tournament')\n",
    "    print('')\n",
    "    \n",
    "    generation +=1\n",
    "    print('*Generation: ', generation)\n",
    "    print(len(society), ' individuals')\n",
    "    phi_list = [individual.phi for individual in society]\n",
    "    max_phi.append(max(phi_list))\n",
    "    min_phi.append(min(phi_list))\n",
    "    mean_phi.append(np.mean(phi_list))\n",
    "    std_phi.append(np.std(phi_list))    \n",
    "    \n",
    "end = time.time()"
   ]
  },
  {
   "cell_type": "code",
   "execution_count": 43,
   "metadata": {
    "collapsed": false
   },
   "outputs": [],
   "source": [
    "#winner = society[phi_list.index(max(phi_list))]\n",
    "#lapse = end - start"
   ]
  },
  {
   "cell_type": "code",
   "execution_count": 42,
   "metadata": {
    "collapsed": false
   },
   "outputs": [],
   "source": [
    "#heat = power(winner.curve, 400, 217, catalogue['Conductivity (W/mK)'][winner.material], 500, True)\n",
    "#plt.title('$\\omega_{espía}$ = '+str(omega_espia)+', $\\omega_{combate}$ = '+str(omega_combate)+', $\\omega_{Convección}$ = '+str(omega_conveccion)+', $\\omega_{Peso}$ = '+str(omega_peso)+', $\\omega_{Resistencia}$ = '+str(omega_resistencia)+'\\n $\\Phi$ ='+str(round(max(phi_list),2)), fontsize = 25)\n",
    "#plt.text(0, -0.016, catalogue['Material'][winner.material]+': '+str(round(winner.weight,1))+' kg \\n'+'Convección en modo espía: '+str(round(heat,1))+' $W$', fontsize = 20) \n",
    "#plt.text(0.044, -0.016, str(winner.genome), fontsize = 20)\n",
    "#plt.savefig(str(omega_espia)+'_'+str(omega_combate)+'_'+str(omega_conveccion)+'_'+str(omega_peso)+'_'+str(omega_resistencia)+'_espia.png', dpi=300, bbox_inches='tight')"
   ]
  },
  {
   "cell_type": "code",
   "execution_count": 41,
   "metadata": {
    "collapsed": false
   },
   "outputs": [],
   "source": [
    "#heat = power(winner.curve, 600, 217, catalogue['Conductivity (W/mK)'][winner.material], 500, True)\n",
    "#plt.title('$\\omega_{espía}$ = '+str(omega_espia)+', $\\omega_{combate}$ = '+str(omega_combate)+', $\\omega_{Convección}$ = '+str(omega_conveccion)+', $\\omega_{Peso}$ = '+str(omega_peso)+', $\\omega_{Resistencia}$ = '+str(omega_resistencia)+'\\n $\\Phi$ ='+str(round(max(phi_list),2)), fontsize = 25)\n",
    "#plt.text(0, -0.016, catalogue['Material'][winner.material]+': '+str(round(winner.weight,1))+' kg \\n'+'Convección en modo combate: '+str(round(heat,1))+' $W$', fontsize = 20) \n",
    "#plt.text(0.044, -0.016, str(winner.genome), fontsize = 20)\n",
    "#plt.savefig(str(omega_espia)+'_'+str(omega_combate)+'_'+str(omega_conveccion)+'_'+str(omega_peso)+'_'+str(omega_resistencia)+'_combate.png', dpi=300, bbox_inches='tight')"
   ]
  },
  {
   "cell_type": "code",
   "execution_count": 40,
   "metadata": {
    "collapsed": false,
    "scrolled": true
   },
   "outputs": [],
   "source": [
    "\n",
    "#fig = plt.figure(figsize=(15,5))\n",
    "#plt.plot(max_phi, label='$\\Phi_{max}$')\n",
    "#plt.plot(min_phi, label='$\\Phi_{min}$')\n",
    "#plt.plot(mean_phi, label='$\\overline{\\Phi}$')\n",
    "#plt.plot(std_phi, label='$\\sigma_{\\Phi}$')\n",
    "#plt.title('$\\omega_{espía}$ = '+str(omega_espia)+', $\\omega_{combate}$ = '+str(omega_combate)+', $\\omega_{Convección}$ = '+str(omega_conveccion)+', $\\omega_{Peso}$ = '+str(omega_peso)+', $\\omega_{Resistencia}$ = '+str(omega_resistencia)+'\\n $\\Phi$ ='+str(round(max(phi_list),2)), fontsize = 25)\n",
    "#plt.xlabel('Generation', fontsize = 15)\n",
    "#plt.legend(loc=4, fontsize=20)\n",
    "#plt.text(5, 0.65, str(round(lapse,1))+' s', fontsize = 20)\n",
    "#sns.despine()\n",
    "#plt.savefig(str(omega_espia)+'_'+str(omega_combate)+'_'+str(omega_conveccion)+'_'+str(omega_peso)+'_'+str(omega_resistencia)+'_evolucion.png', dpi=300, bbox_inches='tight')\n"
   ]
  },
  {
   "cell_type": "markdown",
   "metadata": {},
   "source": [
    "#Soluciones"
   ]
  },
  {
   "cell_type": "markdown",
   "metadata": {},
   "source": [
    "A continuación se muestran los resultados de la evolución de una población aleatoria de 50 individuos a lo largo de 50 generaciones, con una tasa de reproducción del 100%. La tasa de inmigración es del 10% y la de mutación, de 1/28. Estos valores se han elegido bajos para obtener una evolución progresiva, no tan brusca como en optimizaciones anteriores."
   ]
  },
  {
   "cell_type": "markdown",
   "metadata": {},
   "source": [
    "##Avión espía-bombardero"
   ]
  },
  {
   "cell_type": "markdown",
   "metadata": {},
   "source": [
    "En este caso, se quiere minimizar la resistencia, para aumentar la autonomía del avión."
   ]
  },
  {
   "cell_type": "markdown",
   "metadata": {},
   "source": [
    "![](/files/imagenes/1_0_2_1_2_evolucion.png)"
   ]
  },
  {
   "cell_type": "markdown",
   "metadata": {},
   "source": [
    "![](/files/imagenes/1_0_2_1_2_espia.png)"
   ]
  },
  {
   "cell_type": "markdown",
   "metadata": {},
   "source": [
    "##Avión de combate"
   ]
  },
  {
   "cell_type": "markdown",
   "metadata": {},
   "source": [
    "En este caso, se quiere reducir el pero, para reducir la carga estructural y aumentar la relación Empuje/Peso."
   ]
  },
  {
   "cell_type": "markdown",
   "metadata": {},
   "source": [
    "![](/files/imagenes/0_1_2_2_1_evolucion.png)"
   ]
  },
  {
   "cell_type": "markdown",
   "metadata": {},
   "source": [
    "![](/files/imagenes/0_1_2_2_1_combate_a.png)"
   ]
  },
  {
   "cell_type": "markdown",
   "metadata": {},
   "source": [
    "Curiosamente, en otra optimización con sólo 30 individuos por población a lo largo de 30 generaciones, se obtuvo la optimización siguiente, que pese a tener una geometría totalmente distinta tiene una función de mérito del mismo orden:"
   ]
  },
  {
   "cell_type": "markdown",
   "metadata": {},
   "source": [
    "![](/files/imagenes/0_1_2_2_1_combate_b.png)"
   ]
  },
  {
   "cell_type": "markdown",
   "metadata": {},
   "source": [
    "Se ha decidido llevar a cabo un nuevo proceso de optimización, donde estos dos individuos (cuales Adán y Eva) son utilizados como población inicial, a fin de descubrir cuál de las dos geometrías es superior o si hay una geometría intermedia que sea más óptima. Al cabo de 60 generaciones, la primera de las soluciones seguía siendo la mejor de las obtenidas."
   ]
  },
  {
   "cell_type": "markdown",
   "metadata": {},
   "source": [
    "##Avión multipropósito"
   ]
  },
  {
   "cell_type": "markdown",
   "metadata": {},
   "source": [
    "En este caso se quieren pesos equilibrados."
   ]
  },
  {
   "cell_type": "markdown",
   "metadata": {},
   "source": [
    "![](/files/imagenes/1_1_2_1_1_evolucion.png)"
   ]
  },
  {
   "cell_type": "markdown",
   "metadata": {},
   "source": [
    "![](/files/imagenes/1_1_2_1_1_espia.png)"
   ]
  },
  {
   "cell_type": "markdown",
   "metadata": {},
   "source": [
    "![](/files/imagenes/1_1_2_1_1_combate.png)"
   ]
  },
  {
   "cell_type": "markdown",
   "metadata": {
    "collapsed": true
   },
   "source": [
    "Carlos Dorado, Aeropython, 20 de abril de 2015"
   ]
  }
 ],
 "metadata": {
  "kernelspec": {
   "display_name": "Python 3",
   "language": "python",
   "name": "python3"
  },
  "language_info": {
   "codemirror_mode": {
    "name": "ipython",
    "version": 3
   },
   "file_extension": ".py",
   "mimetype": "text/x-python",
   "name": "python",
   "nbconvert_exporter": "python",
   "pygments_lexer": "ipython3",
   "version": "3.4.1"
  }
 },
 "nbformat": 4,
 "nbformat_minor": 0
}
