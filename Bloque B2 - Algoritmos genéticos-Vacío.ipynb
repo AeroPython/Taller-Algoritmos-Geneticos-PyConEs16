{
 "cells": [
  {
   "cell_type": "markdown",
   "metadata": {},
   "source": [
    "![Aeropython logo](./static/aeropython_name_mini.png)\n",
    "###### Carlos Dorado Cárdenas\n",
    "###### Siro Moreno Martín"
   ]
  },
  {
   "cell_type": "markdown",
   "metadata": {
    "collapsed": true
   },
   "source": [
    "# Simplifica tu vida con sistemas complejos y algoritmos genéticos"
   ]
  },
  {
   "cell_type": "markdown",
   "metadata": {},
   "source": [
    "## Bloque B2 - Algoritmos genéticos"
   ]
  },
  {
   "cell_type": "code",
   "execution_count": 1,
   "metadata": {
    "collapsed": false
   },
   "outputs": [
    {
     "name": "stderr",
     "output_type": "stream",
     "text": [
      ":0: FutureWarning: IPython widgets are experimental and may change in the future.\n"
     ]
    }
   ],
   "source": [
    "import numpy as np\n",
    "import random as random\n",
    "from IPython.html.widgets import interact\n",
    "import matplotlib.pyplot as plt\n",
    "%matplotlib inline"
   ]
  },
  {
   "cell_type": "code",
   "execution_count": 2,
   "metadata": {
    "collapsed": false
   },
   "outputs": [],
   "source": [
    "class Individual (object):\n",
    "    \n",
    "    def __init__(self, genome):\n",
    "        \n",
    "        self.genome = genome        \n",
    "        self.traits = {}\n",
    "        self.performances = {}\n",
    "        self.fitness = 0"
   ]
  },
  {
   "cell_type": "markdown",
   "metadata": {},
   "source": [
    "El genoma es donde está codificada la información que sirve para construir una solución. Mientras se sea coherente, el genoma se puede definir con total libertad según se necesite: números reales, enteros, letras... En el mundo informático todo está codificado en estados binarios, así que haremos que nuestro genoma será una cadena de ceros y unos. "
   ]
  },
  {
   "cell_type": "markdown",
   "metadata": {},
   "source": [
    "Para ello vamos a utilizar un diccionario genético que defina los genes de nuestro individuo y su longitud. En este caso, nuestro individuo sólo presenta dos características, que son las coordenadas de un punto, por lo que sólo habrá dos genes. Vamos a utilizar 10 dígitos, que nos permiten codificar 1024 estados diferentes."
   ]
  },
  {
   "cell_type": "code",
   "execution_count": 3,
   "metadata": {
    "collapsed": false
   },
   "outputs": [],
   "source": [
    "dict_genes = {\n",
    "    'x1' : 10,\n",
    "    'x2' : 10,\n",
    "}"
   ]
  },
  {
   "cell_type": "markdown",
   "metadata": {},
   "source": [
    "Vamos a necesitar crear individuos aleatorios, para lo que utilizaremos una función \"Generar genoma\":"
   ]
  },
  {
   "cell_type": "code",
   "execution_count": 4,
   "metadata": {
    "collapsed": true
   },
   "outputs": [],
   "source": [
    "generate_random_binary_list = lambda n: [random.randint(0,1) for b in range(1,n+1)]\n",
    "\n",
    "def generate_genome (dict_genes):\n",
    "    \n",
    "    #We first calculate the total number of bits that the genome must contain\n",
    "    number_of_bits = sum([dict_genes[trait] for trait in dict_genes])\n",
    "    \n",
    "    #And we return a random genome of this length\n",
    "    return generate_random_binary_list(number_of_bits)"
   ]
  },
  {
   "cell_type": "code",
   "execution_count": null,
   "metadata": {
    "collapsed": false,
    "scrolled": true
   },
   "outputs": [],
   "source": []
  },
  {
   "cell_type": "markdown",
   "metadata": {},
   "source": [
    "Cuando ya tengamos nuestros individuos, con su material genético, necesitaremos una función que nos descifre este código y lo traduzca a características reconocibles del mismo. En el mundo real sería como leer el \"gen del color de los ojos\" (en realidad son varios genes) para descubrir que el contenido de ese gen en concreto indica que el individuo tiene \"ojos azules\"."
   ]
  },
  {
   "cell_type": "code",
   "execution_count": 6,
   "metadata": {
    "collapsed": false
   },
   "outputs": [],
   "source": [
    "def calculate_traits (individual, dict_genes, minimum, maximum):\n",
    "    #This function must decipher the genome and return the traits of the individual.\n",
    "    #Normally, the genome contains binary numerical values for the different traits.\n",
    "    \n",
    "    dict_traits = {}\n",
    "    index = 0\n",
    "    \n",
    "    for trait in dict_genes:\n",
    "        step = (maximum-minimum) / (int(dict_genes[trait]*'1',2))\n",
    "        dict_traits[trait] = minimum + step*int(''.join(str(bit) for bit in individual.genome[index : index+dict_genes[trait]]), 2)\n",
    "        index += dict_genes[trait]\n",
    "        \n",
    "    individual.traits = dict_traits"
   ]
  },
  {
   "cell_type": "code",
   "execution_count": null,
   "metadata": {
    "collapsed": false
   },
   "outputs": [],
   "source": []
  },
  {
   "cell_type": "markdown",
   "metadata": {},
   "source": [
    "En el mundo natural, las características de un individuo determinarán en gran parte cómo de bien o de mal se desenvolverá en la vida, esto es, sus \"actuaciones\", \"desempeño\" o, en inglés, su \"performance\". Si tiene las piernas más largas, podrá correr más rápido; si tiene unos dientes afilados, podrá defenderse mejor... En nuestro ejemplo esto no es ni más ni menos que el eje vertical de nuestra función de coste."
   ]
  },
  {
   "cell_type": "code",
   "execution_count": 8,
   "metadata": {
    "collapsed": false
   },
   "outputs": [],
   "source": [
    "from codigo import goldstein_price"
   ]
  },
  {
   "cell_type": "code",
   "execution_count": 9,
   "metadata": {
    "collapsed": false
   },
   "outputs": [],
   "source": [
    "def calculate_performances (individual):\n",
    "    \n",
    "    dict_perfo = {\n",
    "        \n",
    "        'cost' : goldstein_price([individual.traits['x1'], individual.traits['x2']])\n",
    "\n",
    "    }\n",
    "    \n",
    "    individual.performances = dict_perfo"
   ]
  },
  {
   "cell_type": "code",
   "execution_count": null,
   "metadata": {
    "collapsed": false
   },
   "outputs": [],
   "source": []
  },
  {
   "cell_type": "markdown",
   "metadata": {},
   "source": [
    "Según sean de buenas sus actuaciones, el individuo será más apto, estará mejor adaptado. En nuestro problema se trata de **definir qué es una solución buena**, y aquí se haya una de las armas más potentes del algoritmo genético. **El algoritmo genético nos obliga a definir qué es lo que estamos buscando en nuestro proceso de optimización mediante una función.**"
   ]
  },
  {
   "cell_type": "markdown",
   "metadata": {},
   "source": [
    "Para simplificareste ejemplo, vamos a utilizar directamente el valor del coste:\n",
    "$$ Aptitud = - Coste $$"
   ]
  },
  {
   "cell_type": "code",
   "execution_count": 11,
   "metadata": {
    "collapsed": false
   },
   "outputs": [],
   "source": [
    "def calculate_fitness (individual):\n",
    "        \n",
    "    individual.fitness = - individual.performances['cost']"
   ]
  },
  {
   "cell_type": "code",
   "execution_count": null,
   "metadata": {
    "collapsed": false
   },
   "outputs": [],
   "source": []
  },
  {
   "cell_type": "markdown",
   "metadata": {},
   "source": [
    "Ahora ya podemos generar nuestras soluciones y tenemos medios para evaluarlas. Es hora de hacer que la selección natural haga su trabajo."
   ]
  },
  {
   "cell_type": "markdown",
   "metadata": {},
   "source": [
    "Primero necesitamos crear una población. Una manera de hacer esto es mediante una función de inmigración, que genere una sociedad formada por una determinada cantidad de individuos exóticos, generados de manera aleatoria:"
   ]
  },
  {
   "cell_type": "code",
   "execution_count": 13,
   "metadata": {
    "collapsed": true
   },
   "outputs": [],
   "source": [
    "def immigration (society, target_population, dict_genes, minimum, maximum):\n",
    "    \n",
    "    while len(society) < target_population:\n",
    "        \n",
    "        new_individual = Individual (generate_genome (dict_genes))\n",
    "        calculate_traits (new_individual, dict_genes, minimum, maximum)\n",
    "        calculate_performances (new_individual)\n",
    "        calculate_fitness (new_individual)\n",
    "        \n",
    "        society.append (new_individual)"
   ]
  },
  {
   "cell_type": "code",
   "execution_count": null,
   "metadata": {
    "collapsed": false,
    "scrolled": true
   },
   "outputs": [],
   "source": []
  },
  {
   "cell_type": "markdown",
   "metadata": {},
   "source": [
    "Ahora, los individuos de esta sociedad se reproducen entre ellos, generando nuevos individuos. Los individuos más aptos tienen más probabilidades de reproducirse que los menos aptos, con lo que las mejores soluciones generan más descendencia. Durante la concepción, los nuevos individuos sufren pequeñas mutaciones aleatorias. Después nacen y se incorporan a la sociedad."
   ]
  },
  {
   "cell_type": "code",
   "execution_count": 15,
   "metadata": {
    "collapsed": true
   },
   "outputs": [],
   "source": [
    "#This function was taken from Eli Bendersky's website\n",
    "#It returns an index of a list called \"weights\", \n",
    "#where the content of each element in \"weights\" is the probability of this index to be returned.\n",
    "#For this function to be as fast as possible we need to pass it a list of weights in descending order.\n",
    "def weighted_choice_sub(weights):\n",
    "    \"\"\"\n",
    "    weights = [0.9, 0.05, 0.05]\n",
    "    N = 100000\n",
    "    lista = [weighted_choice_sub(weights) for ii in range(N)]\n",
    "    print( lista.count(0)/N, lista.count(1)/N, lista.count(2)/N)\n",
    "    \"\"\"\n",
    "    rnd = random.random() * sum(weights)\n",
    "    for i, w in enumerate(weights):\n",
    "        rnd -= w\n",
    "        if rnd < 0:\n",
    "            return i\n",
    "\n",
    "def crossover (society, reproduction_rate, mutation_rate, minimum, maximum):\n",
    "    \n",
    "    #First we create a list with the fitness values of every individual in the society\n",
    "    fitness_list = [individual.fitness for individual in society]\n",
    "    \n",
    "    #We sort the individuals in the society in descending order of fitness.   \n",
    "    society_sorted = [x for (y, x) in sorted(zip(fitness_list, society), key=lambda x: x[0], reverse=True)] \n",
    "    \n",
    "    #We then create a list of relative probabilities in descending order, \n",
    "    #so that the fittest individual in the society has N times more chances to reproduce than the least fit,\n",
    "    #where N is the number of individuals in the society.\n",
    "    probability = [i for i in reversed(range(1,len(society_sorted)+1))]\n",
    "    \n",
    "    #We create a list of weights with the probabilities of non-mutation and mutation\n",
    "    mutation = [1 - mutation_rate, mutation_rate]    \n",
    "    \n",
    "    #For every new individual to be created through reproduction:\n",
    "    for i in range (int(len(society) * reproduction_rate)):\n",
    "        \n",
    "        #We select two parents randomly, using the list of probabilities in \"probability\".\n",
    "        father, mother = society_sorted[weighted_choice_sub(probability)], society_sorted[weighted_choice_sub(probability)]\n",
    "        \n",
    "        #We randomly select two cutting points for the genome.\n",
    "        a, b = random.randrange(0, len(father.genome)), random.randrange(0, len(father.genome))\n",
    "        \n",
    "        #And we create the genome of the child putting together the genome slices of the parents in the cutting points.\n",
    "        child_genome = father.genome[0:min(a,b)]+mother.genome[min(a,b):max(a,b)]+father.genome[max(a,b):]\n",
    "        \n",
    "        #For every bit in the not-yet-born child, we generate a list containing \n",
    "        #1's in the positions where the genome must mutate (i.e. the bit must switch its value)\n",
    "        #and 0's in the positions where the genome must stay the same.\n",
    "        n = [weighted_choice_sub(mutation) for ii in range(len(child_genome))]\n",
    "        \n",
    "        #This line switches the bits of the genome of the child that must mutate.\n",
    "        mutant_child_genome = [abs(n[i] -  child_genome[i]) for i in range(len(child_genome))]\n",
    "        \n",
    "        #We finally append the newborn individual to the society\n",
    "        newborn = Individual(mutant_child_genome)\n",
    "        calculate_traits (newborn, dict_genes, minimum, maximum)\n",
    "        calculate_performances (newborn)\n",
    "        calculate_fitness (newborn)\n",
    "        society.append(newborn)        "
   ]
  },
  {
   "cell_type": "code",
   "execution_count": null,
   "metadata": {
    "collapsed": false,
    "scrolled": true
   },
   "outputs": [],
   "source": []
  },
  {
   "cell_type": "markdown",
   "metadata": {},
   "source": [
    "En el mundo natural, la escasez de recursos obliga a los individuos a competir. Una función de torneo escoge parejas de soluciones al azar, las compara y elimina las menos aptas."
   ]
  },
  {
   "cell_type": "code",
   "execution_count": 17,
   "metadata": {
    "collapsed": true
   },
   "outputs": [],
   "source": [
    "def tournament(society, target_population):\n",
    "    \n",
    "    while len(society) > target_population:\n",
    "        \n",
    "        #index1, index2 = random.randrange(0, len(society)), random.randrange(0, len(society))\n",
    "        #if society[index1].fitness > society[index2].fitness:\n",
    "        #    society.pop(index2)\n",
    "        #else:\n",
    "        #    society.pop(index1)\n",
    "                \n",
    "        fitness_list = [individual.fitness for individual in society]\n",
    "        society.pop(fitness_list.index(min(fitness_list)))"
   ]
  },
  {
   "cell_type": "code",
   "execution_count": null,
   "metadata": {
    "collapsed": false,
    "scrolled": false
   },
   "outputs": [],
   "source": []
  },
  {
   "cell_type": "markdown",
   "metadata": {},
   "source": [
    "Ahora podemos crear una función que aplique el algoritmo genético a este problema concreto:"
   ]
  },
  {
   "cell_type": "code",
   "execution_count": 19,
   "metadata": {
    "collapsed": false
   },
   "outputs": [],
   "source": [
    "def genetic_algorithm (minimum = -2,\n",
    "                       maximum = 2,\n",
    "                       number_of_genes = 20,\n",
    "                       size_of_society = 50, \n",
    "                       reproduction_rate = 0.4,\n",
    "                       mutation_rate = 0.1, \n",
    "                       number_of_generations = 10,\n",
    "                       size_after_tournament = 40,\n",
    "                      ):\n",
    "\n",
    "    \n",
    "    dict_genes = {'x1' : number_of_genes,\n",
    "                  'x2' : number_of_genes,\n",
    "                 }\n",
    "    \n",
    "            \n",
    "    society = []\n",
    "    fitness_max = []\n",
    "    fitness_avg = []\n",
    "\n",
    "    for generation in range(number_of_generations):\n",
    "    \n",
    "        immigration (society, size_of_society, dict_genes, minimum, maximum)\n",
    "        fitness_max += list([max([individual.fitness for individual in society])])\n",
    "        fitness_avg += list([np.mean([individual.fitness for individual in society])])\n",
    "        crossover(society, reproduction_rate, mutation_rate, minimum, maximum)\n",
    "        tournament (society, size_after_tournament)\n",
    "    \n",
    "    fitness_list = [individual.fitness for individual in society]\n",
    "    winner = society[fitness_list.index(max(fitness_list))]\n",
    "    print(winner.traits)\n",
    "    \n",
    "        \n",
    "    plt.figure(figsize=(15,5))\n",
    "    plt.plot(fitness_max)\n",
    "    plt.title('$\\Phi_{max} = $' + str(round(fitness_max[-1], 5)), fontsize = 15)  \n",
    "    \n",
    "    plt.figure(figsize=(15,5))\n",
    "    plt.plot(fitness_avg)\n",
    "    plt.title('$\\overline{\\Phi}$', fontsize = 15)  "
   ]
  },
  {
   "cell_type": "code",
   "execution_count": 20,
   "metadata": {
    "collapsed": false
   },
   "outputs": [
    {
     "name": "stdout",
     "output_type": "stream",
     "text": [
      "{'x1': -0.006483084185680665, 'x2': -0.9444112247574088}\n"
     ]
    },
    {
     "data": {
      "image/png": "[encoded data removed]",
      "text/plain": [
       "<matplotlib.figure.Figure at 0x79b26a0>"
      ]
     },
     "metadata": {},
     "output_type": "display_data"
    },
    {
     "data": {
      "image/png": "[encoded data removed]",
      "text/plain": [
       "<matplotlib.figure.Figure at 0x811d2e8>"
      ]
     },
     "metadata": {},
     "output_type": "display_data"
    }
   ],
   "source": [
    "genetic_algorithm()"
   ]
  },
  {
   "cell_type": "markdown",
   "metadata": {},
   "source": [
    "Vemos que alcanzamos el resultado con muchas menos evaluaciones de la función que el algoritmo heurístico más básico (350 frente a 100000 del ascenso de colinas con reinicios aleatorios). Hemos duplicado el rendimiento para esta función 2D, pero las mejoras de rendimiento son más espectaculares cuanto mayor es la dimensión del problema que se quiere optimizar."
   ]
  },
  {
   "cell_type": "markdown",
   "metadata": {},
   "source": [
    "##Ejercicio: \n",
    "\n",
    "Usando este algoritmo genético, minimiza la función de la \"huevera\" en el cuadrado x1, x2 ∈ [-512, 512].\n",
    "Esta función está llena de óptimos locales, cambia los parámetros del problema para ver su influencia en la convergencia.\n",
    "El óptimo absoluto vale -959.6407 y se encuentra en el punto (512, 404.2319)."
   ]
  },
  {
   "cell_type": "code",
   "execution_count": 21,
   "metadata": {
    "collapsed": false
   },
   "outputs": [],
   "source": [
    "from codigo import eggholder"
   ]
  },
  {
   "cell_type": "markdown",
   "metadata": {},
   "source": [
    "<img src=imagenes/eggholder.png alt=\"Función de Huevera\" style=\"width: 500px;\"/>"
   ]
  },
  {
   "cell_type": "code",
   "execution_count": 22,
   "metadata": {
    "collapsed": true
   },
   "outputs": [],
   "source": [
    "def calculate_performances (individual):\n",
    "    \n",
    "    dict_perfo = {\n",
    "        \n",
    "        'cost' : eggholder([individual.traits['x1'], individual.traits['x2']])\n",
    "\n",
    "    }\n",
    "    \n",
    "    individual.performances = dict_perfo"
   ]
  },
  {
   "cell_type": "code",
   "execution_count": 23,
   "metadata": {
    "collapsed": true
   },
   "outputs": [],
   "source": [
    "def genetic_algorithm (minimum = -512,\n",
    "                       maximum = 512,\n",
    "                       number_of_genes = 15,\n",
    "                       size_of_society = 60, \n",
    "                       reproduction_rate = 0.5,\n",
    "                       mutation_rate = 0.2, \n",
    "                       number_of_generations = 100,\n",
    "                       size_after_tournament = 40,\n",
    "                      ):\n",
    "\n",
    "    \n",
    "    dict_genes = {'x1' : number_of_genes,\n",
    "                  'x2' : number_of_genes,\n",
    "                 }\n",
    "    \n",
    "            \n",
    "    society = []\n",
    "    fitness_max = []\n",
    "    fitness_avg = []\n",
    "\n",
    "    for generation in range(number_of_generations):\n",
    "    \n",
    "        immigration (society, size_of_society, dict_genes, minimum, maximum)\n",
    "        fitness_max += list([max([individual.fitness for individual in society])])\n",
    "        fitness_avg += list([np.mean([individual.fitness for individual in society])])\n",
    "        crossover(society, reproduction_rate, mutation_rate, minimum, maximum)\n",
    "        tournament (society, size_after_tournament)\n",
    "    \n",
    "    fitness_list = [individual.fitness for individual in society]\n",
    "    winner = society[fitness_list.index(max(fitness_list))]\n",
    "    print(winner.traits)\n",
    "    \n",
    "        \n",
    "    plt.figure(figsize=(15,5))\n",
    "    plt.plot(fitness_max)\n",
    "    plt.title('$\\Phi_{max} = $' + str(round(fitness_max[-1], 5)), fontsize = 15)  \n",
    "    \n",
    "    plt.figure(figsize=(15,5))\n",
    "    plt.plot(fitness_avg)\n",
    "    plt.title('$\\overline{\\Phi}$', fontsize = 15) "
   ]
  },
  {
   "cell_type": "code",
   "execution_count": 24,
   "metadata": {
    "collapsed": false
   },
   "outputs": [
    {
     "name": "stdout",
     "output_type": "stream",
     "text": [
      "{'x1': 487.97653958944284, 'x2': 442.93255131964804}\n"
     ]
    },
    {
     "data": {
      "image/png": "[encoded data removed]",
      "text/plain": [
       "<matplotlib.figure.Figure at 0x83464e0>"
      ]
     },
     "metadata": {},
     "output_type": "display_data"
    },
    {
     "data": {
      "image/png": "[encoded data removed]",
      "text/plain": [
       "<matplotlib.figure.Figure at 0x82be160>"
      ]
     },
     "metadata": {},
     "output_type": "display_data"
    }
   ],
   "source": [
    "w = interact(genetic_algorithm,\n",
    "             minimum = (-512, 0, 1),\n",
    "             maximum = (0, 512, 1),\n",
    "             number_of_genes = (1, 50, 1),\n",
    "             size_of_society = (1, 100, 1), \n",
    "             reproduction_rate = (0, 1, 0.01), \n",
    "             mutation_rate = (0, 1, 0.01),\n",
    "             number_of_generations = (1, 200, 1),\n",
    "             size_after_tournament = (1, 100, 1)\n",
    "            )"
   ]
  },
  {
   "cell_type": "markdown",
   "metadata": {},
   "source": [
    "El tamaño del genoma, esto es, el número de bits utilizados para describir al individuo, determina la cantidad de soluciones posibles, por lo que abre la puerta a mejores optimizaciones. Un genoma mayor supone asimismo una mayor dificultad para converger, debido a que hay muchas más combinaciones posibles a probar."
   ]
  },
  {
   "cell_type": "markdown",
   "metadata": {},
   "source": [
    "El tamaño de la población es, probablemente el factor más importante. El tiempo de cálculo aumenta de forma directamente proporcional al tamaño de la población, por lo que hay que tener cuidado al elegir el tamaño apropiado.\n",
    "\n",
    "Una población pequeña, aunque mejora los tiempos, puede ser víctima del llamado “efecto del fundador”, en los que una baja variabilidad genética en el origen y, en general, un tamaño poblacional pequeño, hacen que la “deriva genética” lleve a la población a presentar una serie de rasgos comunes que no necesariamente se corresponden con los de los individuos más aptos, que sí se observan fuera de ella."
   ]
  },
  {
   "cell_type": "markdown",
   "metadata": {},
   "source": [
    "Para evitar este problema, se pueden introducir altas tasas de inmigración y mutación. Si la población es pequeña, es muy sensible, por lo que la media de la función de aptitud evoluciona de manera muy turbulenta y puede, incluso, alejarse de la convergencia"
   ]
  },
  {
   "cell_type": "markdown",
   "metadata": {},
   "source": [
    "Por el contrario, una población grande es garantía de una gran variedad genética inicial. Estadísticamente, también es más probable que se encuentre antes la solución, aunque la convergencia sea más lenta. Además, el gran número estabiliza la evolución de la función de mérito media y hace que la población sea más robusta frente a la inmigración y la mutación."
   ]
  },
  {
   "cell_type": "markdown",
   "metadata": {},
   "source": [
    "Si te está gustando este taller:"
   ]
  },
  {
   "cell_type": "code",
   "execution_count": 25,
   "metadata": {
    "collapsed": false
   },
   "outputs": [
    {
     "data": {
      "text/html": [
       "<a href=\"https://twitter.com/share\" class=\"twitter-share-button\" data-url=\"https://github.com/AeroPython/Taller-Algoritmos-Geneticos-PyConEs16\" data-text=\"Aprendiendo Algoritmos Genéticos y Sistemas Complejos con\" data-via=\"AeroPython\" data-size=\"large\" data-hashtags=\"PyConEs\" data-dnt=\"true\">Tweet</a>\n",
       "<script>!function(d,s,id){var js,fjs=d.getElementsByTagName(s)[0],p=/^http:/.test(d.location)?'http':'https';if(!d.getElementById(id)){js=d.createElement(s);js.id=id;js.src=p+'://platform.twitter.com/widgets.js';fjs.parentNode.insertBefore(js,fjs);}}(document, 'script', 'twitter-wjs');</script>"
      ],
      "text/plain": [
       "<IPython.core.display.HTML object>"
      ]
     },
     "metadata": {},
     "output_type": "display_data"
    }
   ],
   "source": [
    "%%html\n",
    "<a href=\"https://twitter.com/share\" class=\"twitter-share-button\" data-url=\"https://github.com/AeroPython/Taller-Algoritmos-Geneticos-PyConEs16\" data-text=\"Aprendiendo Algoritmos Genéticos y Sistemas Complejos con\" data-via=\"AeroPython\" data-size=\"large\" data-hashtags=\"PyConEs\" data-dnt=\"true\">Tweet</a>\n",
    "<script>!function(d,s,id){var js,fjs=d.getElementsByTagName(s)[0],p=/^http:/.test(d.location)?'http':'https';if(!d.getElementById(id)){js=d.createElement(s);js.id=id;js.src=p+'://platform.twitter.com/widgets.js';fjs.parentNode.insertBefore(js,fjs);}}(document, 'script', 'twitter-wjs');</script>"
   ]
  },
  {
   "cell_type": "markdown",
   "metadata": {},
   "source": [
    "Carlos Dorado, Aeropython, 7 de Octubre de 2016"
   ]
  },
  {
   "cell_type": "code",
   "execution_count": 26,
   "metadata": {
    "collapsed": false
   },
   "outputs": [
    {
     "data": {
      "text/html": [
       "<link href='http://fonts.googleapis.com/css?family=Source+Sans+Pro|Josefin+Sans:400,700,400italic|Ubuntu+Condensed' rel='stylesheet' type='text/css'>\n",
       "\n",
       "\n",
       "<style>\n",
       "\n",
       "#notebook_panel { /* main background */\n",
       "    background: #f7f7f7;\n",
       "}\n",
       "\n",
       "div.cell { /* set cell width */\n",
       "    width: 900px;\n",
       "}\n",
       "\n",
       "div #notebook { /* centre the content */\n",
       "    background: #fff; /* white background for content */\n",
       "    width: 950px;\n",
       "    margin: auto;\n",
       "    padding-left: 0em;\n",
       "}\n",
       "\n",
       "#notebook li { /* More space between bullet points */\n",
       "    margin-top:0.7em;\n",
       "}\n",
       "\n",
       "/* draw border around running cells */\n",
       "div.cell.border-box-sizing.code_cell.running { \n",
       "    border: 1px solid #111;\n",
       "}\n",
       "\n",
       "/* Put a solid color box around each cell and its output, visually linking them*/\n",
       "div.cell.code_cell {\n",
       "    font-family: 'Source Sans Pro', sans-serif;\n",
       "    background-color: rgb(256,256,256);\n",
       "    font-size: 110%;\n",
       "    border-radius: 0px; \n",
       "    padding: 0.5em;\n",
       "    margin-left:1em;\n",
       "    margin-top: 1em;\n",
       "}\n",
       "\n",
       "div.text_cell_render{\n",
       "    font-family: 'Josefin Sans', serif;\n",
       "    line-height: 145%;\n",
       "    font-size: 125%;\n",
       "    font-weight: 500;\n",
       "    width:750px;\n",
       "    margin-left:auto;\n",
       "    margin-right:auto;\n",
       "}\n",
       "\n",
       "\n",
       "/* Formatting for header cells */\n",
       ".text_cell_render h1, .text_cell_render h2, .text_cell_render h3,\n",
       ".text_cell_render h4, .text_cell_render h5 {\n",
       "    font-family: 'Ubuntu Condensed', sans-serif;\n",
       "}\n",
       "\n",
       ".text_cell_render h1 {    /*Use this for Title*/\n",
       "    font-weight: 500;\n",
       "    font-size: 38pt;\n",
       "    line-height: 100%;\n",
       "    color: #ffbc29;\n",
       "    text-align: center;\n",
       "    margin-bottom: 0.1em;\n",
       "    margin-top: 0.3em;\n",
       "    display: block;\n",
       "}\n",
       "\n",
       ".text_cell_render h2 {    /*Use this for Subtitle*/\n",
       "    margin-top:16px;\n",
       "    font-size: 32pt;\n",
       "    font-weight: 500;\n",
       "    margin-bottom: 0.1em;\n",
       "    margin-top: 0.3em;\n",
       "    text-align: center;\n",
       "    font-style: regular;\n",
       "    color: #376a94;\n",
       "}\t\n",
       "\n",
       ".text_cell_render h3 {   /*Sections*/ \n",
       "    font-size: 30pt;\n",
       "    font-weight: 300;\n",
       "    text-align: left;\n",
       "    margin-bottom: 0.1em;\n",
       "    margin-top: 0.3em;\n",
       "    font-style: regular;\n",
       "    color:  #252525;\n",
       "}\n",
       "\n",
       ".text_cell_render h4 {    /*Subsections*/\n",
       "    font-size: 28pt;\n",
       "    font-weight: 200;\n",
       "    text-align: left;\n",
       "    margin-bottom: 0.1em;\n",
       "    margin-top: 0.3em;\n",
       "    font-style: regular;\n",
       "    color:  #376a94;\n",
       "}\n",
       "\n",
       ".text_cell_render h5 {    /*Subsubsections*/\n",
       "    font-size: 20pt;\n",
       "    font-weight: 300;\n",
       "    font-style: italic;\n",
       "    margin-bottom: .1em;\n",
       "    margin-top: 0.8em;\n",
       "    display: block;\n",
       "    color:  #ffbc29;\n",
       "}\n",
       "\n",
       ".text_cell_render h6 {    /*Author*/\n",
       "    font-family: 'Ubuntu Condensed', sans-serif;\n",
       "    font-weight: 100;\n",
       "    font-size: 14pt;\n",
       "    line-height: 100%;\n",
       "    color: #252525;\n",
       "    text-align: right;\n",
       "    margin-bottom: 1px;\n",
       "    margin-top: 3px;\n",
       "}\n",
       "\n",
       ".CodeMirror{\n",
       "        font-family: 'Duru Sans', sans-serif;\n",
       "        font-size: 100%;\n",
       "}\n",
       "\n",
       "</style>\n",
       "<script>\n",
       "    MathJax.Hub.Config({\n",
       "                        TeX: {\n",
       "                           extensions: [\"AMSmath.js\"],\n",
       "                           equationNumbers: { autoNumber: \"AMS\", useLabelIds: true}\n",
       "                           },\n",
       "                tex2jax: {\n",
       "                    inlineMath: [ ['$','$'], [\"\\\\(\",\"\\\\)\"] ],\n",
       "                    displayMath: [ ['$$','$$'], [\"\\\\[\",\"\\\\]\"] ]\n",
       "                },\n",
       "                displayAlign: 'center', // Change this to 'center' to center equations.\n",
       "                \"HTML-CSS\": {\n",
       "                    styles: {'.MathJax_Display': {\"margin\": 4}}\n",
       "                }\n",
       "        });\n",
       "</script>\n"
      ],
      "text/plain": [
       "<IPython.core.display.HTML object>"
      ]
     },
     "execution_count": 26,
     "metadata": {},
     "output_type": "execute_result"
    }
   ],
   "source": [
    "# Notebook style\n",
    "from IPython.core.display import HTML\n",
    "css_file = './static/style.css'\n",
    "HTML(open(css_file, \"r\").read())"
   ]
  }
 ],
 "metadata": {
  "kernelspec": {
   "display_name": "Python 3",
   "language": "python",
   "name": "python3"
  },
  "language_info": {
   "codemirror_mode": {
    "name": "ipython",
    "version": 3
   },
   "file_extension": ".py",
   "mimetype": "text/x-python",
   "name": "python",
   "nbconvert_exporter": "python",
   "pygments_lexer": "ipython3",
   "version": "3.4.1"
  }
 },
 "nbformat": 4,
 "nbformat_minor": 0
}
